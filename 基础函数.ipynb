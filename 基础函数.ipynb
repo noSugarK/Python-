{
 "cells": [
  {
   "cell_type": "markdown",
   "id": "55c478d120271bcd",
   "metadata": {},
   "source": [
    "## 基础函数"
   ]
  },
  {
   "cell_type": "markdown",
   "id": "1d7c9b10f5b51ee8",
   "metadata": {},
   "source": [
    "### 类型转换"
   ]
  },
  {
   "cell_type": "markdown",
   "id": "4339d348dd5231a7",
   "metadata": {},
   "source": [
    "| 函数                      | 功能                            |\n",
    "|-------------------------|-------------------------------|\n",
    "| int( x [,base ])        | 将x转换为一个整数                     |\n",
    "| long( x [,base ])       | 将x转换为一个长整数                    |\n",
    "| float( x )              | 将x转换到一个浮点数                    |\n",
    "| complex( real [,imag ]) | 创建一个复数                        |\n",
    "| str( x )                | 将对象 x 转换为字符串                  |\n",
    "| repr( x )               | 将对象 x 转换为表达式字符串               |\n",
    "| eval( str )             | 用来计算在字符串中的有效Python表达式,并返回一个对象 |\n",
    "| tuple( s )              | 将序列 s 转换为一个元组                 |\n",
    "| list( s )               | 将序列 s 转换为一个列表                 |\n",
    "| chr( x )                | 将一个整数转换为一个字符                  |\n",
    "| unichr( x )             | 将一个整数转换为Unicode字符             |\n",
    "| ord( x )                | 将一个字符转换为它的整数值                 |\n",
    "| hex( x )                | 将一个整数转换为一个十六进制字符串             |\n",
    "| oct( x )                | 将一个整数转换为一个八进制字符串              |\n",
    "| bin( x )                | 将一个整数转换为一个二进制字符串          ｜"
   ]
  },
  {
   "cell_type": "code",
   "execution_count": 16,
   "id": "e489457a",
   "metadata": {},
   "outputs": [
    {
     "name": "stdout",
     "output_type": "stream",
     "text": [
      "x=1111111 x=1111111 x=127\n",
      "x=177 x=177 x=127\n",
      "x=7f x=7f x=127\n",
      "<class 'str'>\n"
     ]
    }
   ],
   "source": [
    "x = 127\n",
    "s = bin(x)[2:]\n",
    "print(\"x={:b}\".format(x),f\"x=%s x=%d\"%(s,int(s,2)))\n",
    "s = oct(x)[2:]\n",
    "print(\"x={:o}\".format(x),f\"x=%s x=%d\"%(s,int(s,8)))\n",
    "s = hex(x)[2:]\n",
    "print(\"x={:x}\".format(x),f\"x=%s x=%d\"%(s,int(s,16)))\n",
    "print(type(repr(x)))"
   ]
  },
  {
   "cell_type": "markdown",
   "id": "153d5240bad55142",
   "metadata": {},
   "source": [
    "### 引用与复制"
   ]
  },
  {
   "cell_type": "code",
   "execution_count": null,
   "id": "ff7e53e3245d4bd4",
   "metadata": {
    "ExecuteTime": {
     "end_time": "2025-05-02T12:12:23.646856Z",
     "start_time": "2025-05-02T12:12:23.642079Z"
    }
   },
   "outputs": [],
   "source": [
    "a = [1, 2, 3, 4]\n",
    "b = a\n",
    "print(b is a) # b和a是同一对象 True\n",
    "b[0] = 100 # 改变b[0]的值\n",
    "print(b) # [100, 2, 3, 4]\n",
    "print(a) # a[0]的值也发生改变   [100, 2, 3, 4]\n",
    " \n",
    "# 因为 b 和 a 指向同一个对象，修改其中任意一个都会影响到另一个。为了避免这种情况，\n",
    "# 必须创建对象的副本而不是新的引用\n",
    "# 对于像列表和字典这样的容器对象，可以使用两种复制操作：浅复制和深复制。\n",
    "# 浅复制将创建一个新的对象，但它包含的是原始对象中包含的项的引用。\n",
    "a = [1, 2, [3, 4]]\n",
    "b = list(a) # 创建a的一个浅复制\n",
    "print(b is a) # 此时a 和 b不是同一对象    False\n",
    "b.append(100)\n",
    "print(b) # [1, 2, [3, 4], 100]\n",
    "print(a) # a中的值没有变化  [1, 2, [3, 4]]\n",
    "b[2][0] = -100 # 修改b中的一个元素\n",
    "print(b) # [1, 2, [-100, 4], 100]\n",
    "print(a) # a也发生变化    [1, 2, [-100, 4]]\n",
    "b[0] = 100 # 这样改变并不会修改a列表的值\n",
    "print(b) # [100, 2, [-100, 4], 100]\n",
    "print(a) # [1, 2, [-100, 4]]\n",
    "a[0] = 10 # 只有a的值发生改变\n",
    "print(b) # [100, 2, [-100, 4], 100]\n",
    "print(a) # [10, 2, [-100, 4]]\n",
    "# a 和 b 是单独的列表对象，但是它们包含的元素是共享的。因此，\n",
    "# 修改b的一个元素也会修改a中对应的元素\n",
    " \n",
    "# 深复制将创建一个新对象，并且递归地复制它所包含的所有对象。没有内置操作可创建\n",
    "# 对象的深复制，但可以使用标准库的copy.deepcopy()函数完成该工作。\n",
    "import copy\n",
    "a = [1, 2, [3, 4] ]\n",
    "b = copy.deepcopy(a)\n",
    "b[2][0] = -100\n",
    "print(b) # [1, 2, [-100, 4]]\n",
    "print(a) # 此时a的值并没有发生改变 [1, 2, [3, 4]]"
   ]
  },
  {
   "cell_type": "markdown",
   "id": "00cc6a9e",
   "metadata": {},
   "source": [
    "## 内置函数"
   ]
  },
  {
   "cell_type": "markdown",
   "id": "8e712167",
   "metadata": {},
   "source": [
    "### golobals()"
   ]
  },
  {
   "cell_type": "code",
   "execution_count": 1,
   "id": "466e5030b44ea154",
   "metadata": {},
   "outputs": [
    {
     "name": "stdout",
     "output_type": "stream",
     "text": [
      "s = \"ljk\"\n",
      "print(globals()['_ih'][1])\n"
     ]
    }
   ],
   "source": [
    "s = \"ljk\"\n",
    "print(globals()['_ih'][1])"
   ]
  }
 ],
 "metadata": {
  "kernelspec": {
   "display_name": "Python 3",
   "language": "python",
   "name": "python3"
  },
  "language_info": {
   "codemirror_mode": {
    "name": "ipython",
    "version": 3
   },
   "file_extension": ".py",
   "mimetype": "text/x-python",
   "name": "python",
   "nbconvert_exporter": "python",
   "pygments_lexer": "ipython3",
   "version": "3.9.6"
  }
 },
 "nbformat": 4,
 "nbformat_minor": 5
}
