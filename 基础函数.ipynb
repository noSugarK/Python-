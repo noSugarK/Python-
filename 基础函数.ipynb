{
 "cells": [
  {
   "cell_type": "markdown",
   "id": "501b2e51",
   "metadata": {},
   "source": [
    "## 自定义函数"
   ]
  },
  {
   "cell_type": "code",
   "execution_count": null,
   "id": "4a3d0962",
   "metadata": {},
   "outputs": [],
   "source": [
    "def fun(a,b,*c):\n",
    "    print(a,b)\n",
    "    for i in c:\n",
    "        print(i)\n",
    "\n",
    "fun(1,2,3,4,5)"
   ]
  },
  {
   "cell_type": "markdown",
   "id": "c88ac1e6",
   "metadata": {},
   "source": [
    "## 匿名函数"
   ]
  },
  {
   "cell_type": "code",
   "execution_count": null,
   "id": "96ef1e03",
   "metadata": {},
   "outputs": [],
   "source": [
    "RIS = lambda : map(int, input().split())\n",
    "RIL = lambda : list(map(int, input().split()))\n",
    "PL = lambda l : print(\" \".join(map(str,l)))\n",
    "\n",
    "# a, b = RIS()\n",
    "# print(a,b)\n",
    "ls = RIL()\n",
    "print(ls)\n",
    "PL(ls)"
   ]
  },
  {
   "cell_type": "markdown",
   "id": "55c478d120271bcd",
   "metadata": {},
   "source": [
    "## 基础函数"
   ]
  },
  {
   "cell_type": "markdown",
   "id": "1d7c9b10f5b51ee8",
   "metadata": {},
   "source": [
    "### 类型转换"
   ]
  },
  {
   "cell_type": "markdown",
   "id": "4339d348dd5231a7",
   "metadata": {},
   "source": [
    "| 函数                      | 功能                            |\n",
    "|-------------------------|-------------------------------|\n",
    "| int( x [,base ])        | 将x转换为一个整数                     |\n",
    "| long( x [,base ])       | 将x转换为一个长整数                    |\n",
    "| float( x )              | 将x转换到一个浮点数                    |\n",
    "| complex( real [,imag ]) | 创建一个复数                        |\n",
    "| str( x )                | 将对象 x 转换为字符串                  |\n",
    "| repr( x )               | 将对象 x 转换为表达式字符串               |\n",
    "| eval( str )             | 用来计算在字符串中的有效Python表达式,并返回一个对象 |\n",
    "| tuple( s )              | 将序列 s 转换为一个元组                 |\n",
    "| list( s )               | 将序列 s 转换为一个列表                 |\n",
    "| chr( x )                | 将一个整数转换为一个字符                  |\n",
    "| unichr( x )             | 将一个整数转换为Unicode字符             |\n",
    "| ord( x )                | 将一个字符转换为它的整数值                 |\n",
    "| hex( x )                | 将一个整数转换为一个十六进制字符串             |\n",
    "| oct( x )                | 将一个整数转换为一个八进制字符串              |\n",
    "| bin( x )                | 将一个整数转换为一个二进制字符串          ｜"
   ]
  },
  {
   "cell_type": "code",
   "execution_count": null,
   "id": "e489457a",
   "metadata": {},
   "outputs": [],
   "source": [
    "x = 127\n",
    "s = bin(x)[2:]\n",
    "print(\"x={:b}\".format(x),f\"x=%s x=%d\"%(s,int(s,2)))\n",
    "s = oct(x)[2:]\n",
    "print(\"x={:o}\".format(x),f\"x=%s x=%d\"%(s,int(s,8)))\n",
    "s = hex(x)[2:]\n",
    "print(\"x={:x}\".format(x),f\"x=%s x=%d\"%(s,int(s,16)))\n",
    "print(type(repr(x)))"
   ]
  },
  {
   "cell_type": "markdown",
   "id": "153d5240bad55142",
   "metadata": {},
   "source": [
    "### 引用与复制"
   ]
  },
  {
   "cell_type": "code",
   "execution_count": null,
   "id": "ff7e53e3245d4bd4",
   "metadata": {
    "ExecuteTime": {
     "end_time": "2025-05-02T12:12:23.646856Z",
     "start_time": "2025-05-02T12:12:23.642079Z"
    }
   },
   "outputs": [],
   "source": [
    "a = [1, 2, 3, 4]\n",
    "b = a\n",
    "print(b is a) # b和a是同一对象 True\n",
    "b[0] = 100 # 改变b[0]的值\n",
    "print(b) # [100, 2, 3, 4]\n",
    "print(a) # a[0]的值也发生改变   [100, 2, 3, 4]\n",
    " \n",
    "# 因为 b 和 a 指向同一个对象，修改其中任意一个都会影响到另一个。为了避免这种情况，\n",
    "# 必须创建对象的副本而不是新的引用\n",
    "# 对于像列表和字典这样的容器对象，可以使用两种复制操作：浅复制和深复制。\n",
    "# 浅复制将创建一个新的对象，但它包含的是原始对象中包含的项的引用。\n",
    "a = [1, 2, [3, 4]]\n",
    "b = list(a) # 创建a的一个浅复制\n",
    "print(b is a) # 此时a 和 b不是同一对象    False\n",
    "b.append(100)\n",
    "print(b) # [1, 2, [3, 4], 100]\n",
    "print(a) # a中的值没有变化  [1, 2, [3, 4]]\n",
    "b[2][0] = -100 # 修改b中的一个元素\n",
    "print(b) # [1, 2, [-100, 4], 100]\n",
    "print(a) # a也发生变化    [1, 2, [-100, 4]]\n",
    "b[0] = 100 # 这样改变并不会修改a列表的值\n",
    "print(b) # [100, 2, [-100, 4], 100]\n",
    "print(a) # [1, 2, [-100, 4]]\n",
    "a[0] = 10 # 只有a的值发生改变\n",
    "print(b) # [100, 2, [-100, 4], 100]\n",
    "print(a) # [10, 2, [-100, 4]]\n",
    "# a 和 b 是单独的列表对象，但是它们包含的元素是共享的。因此，\n",
    "# 修改b的一个元素也会修改a中对应的元素\n",
    " \n",
    "# 深复制将创建一个新对象，并且递归地复制它所包含的所有对象。没有内置操作可创建\n",
    "# 对象的深复制，但可以使用标准库的copy.deepcopy()函数完成该工作。\n",
    "import copy\n",
    "a = [1, 2, [3, 4] ]\n",
    "b = copy.deepcopy(a)\n",
    "b[2][0] = -100\n",
    "print(b) # [1, 2, [-100, 4]]\n",
    "print(a) # 此时a的值并没有发生改变 [1, 2, [3, 4]]"
   ]
  },
  {
   "cell_type": "markdown",
   "id": "00cc6a9e",
   "metadata": {},
   "source": [
    "## 内置函数"
   ]
  },
  {
   "cell_type": "markdown",
   "id": "8e712167",
   "metadata": {},
   "source": [
    "### golobals()"
   ]
  },
  {
   "cell_type": "code",
   "execution_count": null,
   "id": "466e5030b44ea154",
   "metadata": {},
   "outputs": [],
   "source": [
    "s = \"ljk\"\n",
    "print(globals()['_ih'][1])"
   ]
  },
  {
   "cell_type": "markdown",
   "id": "75f5860a",
   "metadata": {},
   "source": [
    "### range()"
   ]
  },
  {
   "cell_type": "markdown",
   "id": "b29f38ef",
   "metadata": {},
   "source": [
    "Python3 range() 函数返回的是一个可迭代对象（类型是对象），而不是列表类型， 所以打印的时候不会打印列表。\n",
    "\n",
    "Python3 list() 函数是对象迭代器，可以把 range() 返回的可迭代对象转为一个列表，返回的变量类型为列表。"
   ]
  },
  {
   "cell_type": "markdown",
   "id": "3592ad82",
   "metadata": {},
   "source": [
    "#### 函数语法\n",
    "\n",
    "range(stop)\n",
    "\n",
    "range(start, stop[, step])\n",
    "\n",
    "#### 参数说明\n",
    "\n",
    "start: 计数从 start 开始。默认是从 0 开始。例如 range(5) 等价于 range(0， 5)\n",
    "\n",
    "stop: 计数到 stop 结束，但不包括 stop。例如：range(0， 5) 是 [0, 1, 2, 3, 4] 没有 5\n",
    "\n",
    "step：步长，默认为 1。例如：range(0， 5) 等价于 range(0, 5, 1)"
   ]
  },
  {
   "cell_type": "code",
   "execution_count": null,
   "id": "3c838d82",
   "metadata": {},
   "outputs": [],
   "source": [
    "for i in range(0, 10, 3) :\n",
    "    print(i)\n",
    "\n",
    "for i in range(-10, -100, -30) :\n",
    "    print(i)\n",
    "\n",
    "a = list(range(5))\n",
    "print(a)"
   ]
  },
  {
   "cell_type": "markdown",
   "id": "7678e825",
   "metadata": {},
   "source": [
    "### sorted()\n",
    "\n",
    "sorted() 函数对所有可迭代的对象进行排序操作。"
   ]
  },
  {
   "cell_type": "markdown",
   "id": "2fc9fca2",
   "metadata": {},
   "source": [
    "#### sort 与 sorted 区别\n",
    "\n",
    "sort 是应用在 list 上的方法，sorted 可以对所有可迭代的对象进行排序操作。\n",
    "\n",
    "list 的 sort 方法返回的是对已经存在的列表进行操作，而内建函数 sorted 方法返回的是一个新的 list，而不是在原来的基础上进行的操作。\n",
    "\n",
    "#### sorted 语法\n",
    "\n",
    "sorted(iterable, key=None, reverse=False)  \n",
    "\n",
    "#### 参数说明\n",
    "\n",
    "iterable -- 可迭代对象。\n",
    "\n",
    "key -- 主要是用来进行比较的元素，只有一个参数，具体的函数的参数就是取自于可迭代对象中，指定可迭代对象中的一个元素来进行排序。\n",
    "\n",
    "reverse -- 排序规则，reverse = True 降序 ， reverse = False 升序（默认）。\n",
    "\n",
    "#### 返回值\n",
    "\n",
    "返回重新排序的列表。"
   ]
  },
  {
   "cell_type": "code",
   "execution_count": null,
   "id": "bbcde644",
   "metadata": {},
   "outputs": [],
   "source": [
    "a = list(range(20,0,-2))\n",
    "print(a)\n",
    "a.sort()\n",
    "print(a)\n",
    "print(sorted(a,key=lambda x:-1*x))\n",
    "print(sorted(a,reverse=True))"
   ]
  },
  {
   "cell_type": "markdown",
   "id": "23c1c70e",
   "metadata": {},
   "source": [
    "#### 字典排序实例"
   ]
  },
  {
   "cell_type": "code",
   "execution_count": null,
   "id": "4dc84784",
   "metadata": {},
   "outputs": [],
   "source": [
    "s = \"德国 10 11 16\\n意大利 10 10 20\\n荷兰 10 12 14\\n法国 10 12 11\\n英国 22 21 22\\n中国 38 32 18\\n日本 27 14 17\\n美国 39 41 33\\n俄罗斯奥委会 20 28 23\\n澳大利亚 17 7 22\\n匈牙利 6 7 7\\n加拿大 7 6 11\\n古巴 7 3 5\\n巴西 7 6 8\\n新西兰 7 6 7\"\n",
    "stodata = s.split('\\n')\n",
    "\n",
    "# 使用sorted\n",
    "para = {}\n",
    "\n",
    "for line in range(len(stodata)):\n",
    "    # 每一行数据\n",
    "    data = stodata[line].split(' ')\n",
    "    # print(data)\n",
    "    # 组装数据结构para={'China': [], 'Russia': []}\n",
    "    para[data[0]] = [int(i) for i in data[1:]]\n",
    "print(para)\n",
    "# 开始排序(x[1]代表奖牌数目, x[0]代表国家)\n",
    "new_para = sorted(para.items(), key=lambda x: (-x[1][0],-x[1][1],-x[1][2], x[0]))\n",
    "print(dict(new_para))\n",
    "\n",
    "c=[]\n",
    "for i in new_para:\n",
    "     c.append((i[0]))\n",
    "for j in range(15):\n",
    "    print(f\"{(j+1):2d}  {c[j]}\")"
   ]
  },
  {
   "cell_type": "markdown",
   "id": "dbafef17",
   "metadata": {},
   "source": [
    "## 记忆化"
   ]
  },
  {
   "cell_type": "code",
   "execution_count": null,
   "id": "026932a3",
   "metadata": {},
   "outputs": [],
   "source": [
    "import functools\n",
    "print(dir(functools))"
   ]
  },
  {
   "cell_type": "code",
   "execution_count": null,
   "id": "e3d69d58",
   "metadata": {},
   "outputs": [],
   "source": [
    "from functools import reduce\n",
    "a = [1,2,3,4]\n",
    "res = reduce(lambda x,y:x and y,a)\n",
    "# print(bin(res)[2:])\n",
    "print(res)"
   ]
  },
  {
   "cell_type": "code",
   "execution_count": null,
   "id": "255ec16a",
   "metadata": {},
   "outputs": [],
   "source": [
    "from functools import lru_cache\n",
    "@lru_cache(maxsize=None)\n",
    "def fun(n):\n",
    "    if n == 1 or n == 2:\n",
    "        return 1\n",
    "    else:\n",
    "        return fun(n-2)+fun(n-1)\n",
    "print(fun(80))"
   ]
  },
  {
   "cell_type": "markdown",
   "id": "701ac650",
   "metadata": {},
   "source": [
    "## 逆元&快速幂"
   ]
  },
  {
   "cell_type": "markdown",
   "id": "e198ac30",
   "metadata": {},
   "source": [
    "总结：\n",
    "\n",
    "内置的pow()比手搓快速幂更快\n",
    "\n",
    "逆元：a 关于 m 的模逆为 b\n",
    "\n",
    "1. 理解逆元的定义\n",
    "\n",
    "<p>在模 m 下，如果存在整数 b，使得 <code>a * b ≡ 1 (mod m)</code>，则 b 被称为 a 相对于 m 的逆元。换句话说，a 和 m 互为逆元意味着它们的乘积模 m 为 1。</p>\n",
    "\n",
    "特殊的：\n",
    "\n",
    "费马小定理，当 mod 为质数时 则有 <code>b = a%(m-2)</code>"
   ]
  },
  {
   "cell_type": "code",
   "execution_count": null,
   "id": "1a871234",
   "metadata": {},
   "outputs": [],
   "source": [
    "def fastExpMod(b,e,mod):\n",
    "    result=1\n",
    "    while e != 0:\n",
    "        if (e&1) == 1:\n",
    "            result = (result*b)%mod\n",
    "        e >>= 1\n",
    "        b = (b*b)%mod\n",
    "    return result\n",
    "\n",
    "x = fastExpMod(2,64,10086)\n",
    "y = pow(2,64,10086)\n",
    "print(x,y)"
   ]
  },
  {
   "cell_type": "markdown",
   "id": "ac597f7f",
   "metadata": {},
   "source": [
    "### 性能测试"
   ]
  },
  {
   "cell_type": "code",
   "execution_count": null,
   "id": "cd0572d1",
   "metadata": {},
   "outputs": [],
   "source": [
    "%timeit fastExpMod(2, 64, 10086)\n",
    "%timeit pow(2, 64, 10086)"
   ]
  },
  {
   "cell_type": "markdown",
   "id": "a578d86e",
   "metadata": {},
   "source": [
    "貌似 pow 的效率会比手搓的快速幂更好"
   ]
  },
  {
   "cell_type": "code",
   "execution_count": null,
   "id": "78a54bfd",
   "metadata": {},
   "outputs": [],
   "source": [
    "import time\n",
    "\n",
    "def fastExpMod(b, e, mod):\n",
    "    result = 1\n",
    "    while e != 0:\n",
    "        if (e & 1) == 1:\n",
    "            result = (result * b) % mod\n",
    "        e >>= 1\n",
    "        b = (b * b) % mod\n",
    "    return result\n",
    "\n",
    "# 测试运行时间\n",
    "start_time = time.time()\n",
    "x = fastExpMod(2, 64, 10086)\n",
    "end_time = time.time()\n",
    "print(\"fastExpMod 耗时:\", end_time - start_time, \"秒\")\n",
    "\n",
    "start_time = time.time()\n",
    "y = pow(2, 64, 10086)\n",
    "end_time = time.time()\n",
    "print(\"pow 耗时:\", end_time - start_time, \"秒\")\n",
    "\n",
    "print(\"结果是否一致:\", x == y)"
   ]
  }
 ],
 "metadata": {
  "kernelspec": {
   "display_name": "Python 3",
   "language": "python",
   "name": "python3"
  },
  "language_info": {
   "codemirror_mode": {
    "name": "ipython",
    "version": 3
   },
   "file_extension": ".py",
   "mimetype": "text/x-python",
   "name": "python",
   "nbconvert_exporter": "python",
   "pygments_lexer": "ipython3",
   "version": "3.9.6"
  }
 },
 "nbformat": 4,
 "nbformat_minor": 5
}
