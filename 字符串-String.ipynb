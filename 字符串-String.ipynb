{
 "cells": [
  {
   "cell_type": "markdown",
   "id": "b7d3c729f0d7280b",
   "metadata": {},
   "source": [
    "## 字符串操作\n",
    "\n",
    "https://www.runoob.com/python/python-strings.html"
   ]
  },
  {
   "cell_type": "code",
   "execution_count": null,
   "id": "46577113c2d88ac",
   "metadata": {},
   "outputs": [],
   "source": [
    "s = \"abc\"\n",
    "dir(s)"
   ]
  },
  {
   "cell_type": "markdown",
   "id": "998acd25",
   "metadata": {},
   "source": [
    "### 基础知识"
   ]
  },
  {
   "cell_type": "markdown",
   "id": "a9775f47",
   "metadata": {},
   "source": [
    "Python 中单引号 ' 和双引号 \" 使用完全相同。\n",
    "\n",
    "使用三引号(''' 或 \"\"\")可以指定一个多行字符串。\n",
    "\n",
    "转义符 \\。\n",
    "\n",
    "反斜杠可以用来转义，使用 r 可以让反斜杠不发生转义。 如 r\"this is a line with \\n\" 则 \\n 会显示，并不是换行。\n",
    "\n",
    "按字面意义级联字符串，如 \"this \" \"is \" \"string\" 会被自动转换为 this is string。\n",
    "\n",
    "字符串可以用 + 运算符连接在一起，用 * 运算符重复。\n",
    "\n",
    "Python 中的字符串有两种索引方式，从左往右以 0 开始，从右往左以 -1 开始。\n",
    "\n",
    "Python 中的字符串不能改变。\n",
    "\n",
    "Python 没有单独的字符类型，一个字符就是长度为 1 的字符串。\n",
    "\n",
    "字符串切片 str[start:end]，其中 start（包含）是切片开始的索引，end（不包含）是切片结束的索引。\n",
    "\n",
    "字符串的切片可以加上步长参数 step，语法格式如下：str[start:end:step]"
   ]
  },
  {
   "cell_type": "code",
   "execution_count": 1,
   "id": "38fd53e4",
   "metadata": {},
   "outputs": [
    {
     "name": "stdout",
     "output_type": "stream",
     "text": [
      "123456789\n",
      "12345678\n",
      "1\n",
      "345\n",
      "3456789\n",
      "24\n",
      "123456789123456789\n",
      "123456789你好\n",
      "------------------------------\n",
      "hello\n",
      "runoob\n",
      "hello\\nrunoob\n"
     ]
    }
   ],
   "source": [
    "st='123456789'\n",
    " \n",
    "print(st)                 # 输出字符串\n",
    "print(st[0:-1])           # 输出第一个到倒数第二个的所有字符\n",
    "print(st[0])              # 输出字符串第一个字符\n",
    "print(st[2:5])            # 输出从第三个开始到第六个的字符（不包含）\n",
    "print(st[2:])             # 输出从第三个开始后的所有字符\n",
    "print(st[1:5:2])          # 输出从第二个开始到第五个且每隔一个的字符（步长为2）\n",
    "print(st * 2)             # 输出字符串两次\n",
    "print(st + '你好')         # 连接字符串\n",
    " \n",
    "print('------------------------------')\n",
    " \n",
    "print('hello\\nrunoob')      # 使用反斜杠(\\)+n转义特殊字符\n",
    "print(r'hello\\nrunoob')     # 在字符串前面添加一个 r，表示原始字符串，不会发生转义"
   ]
  },
  {
   "cell_type": "markdown",
   "id": "18b559b38d8adfe",
   "metadata": {},
   "source": [
    "### 字符串内建函数"
   ]
  },
  {
   "cell_type": "markdown",
   "id": "1d975482f9fb7d6a",
   "metadata": {},
   "source": [
    "字符串方法是从 Python1.6 到 2.0 慢慢加进来的 —— 它们也被加到了Jython 中。\n",
    "\n",
    "这些方法实现了 string 模块的大部分方法，如下表所示列出了目前字符串内建支持的方法，所有的方法都包含了对 Unicode 的支持，有一些甚至是专门用于 Unicode 的。"
   ]
  },
  {
   "cell_type": "markdown",
   "id": "c2cbe049bff59dd4",
   "metadata": {},
   "source": [
    "| **方法**                                                                                                          | **描述**                                                     |\n",
    "|:----------------------------------------------------------------------------------------------------------------| :----------------------------------------------------------- |\n",
    "| [string.capitalize()](https://www.runoob.com/python/att-string-capitalize.html)                                 | 把字符串的第一个字符大写                                     |\n",
    "| [string.center(width)](https://www.runoob.com/python/att-string-center.html)                                    | 返回一个原字符串居中,并使用空格填充至长度 width 的新字符串   |\n",
    "| **[string.count(str, beg=0, end=len(string))](https://www.runoob.com/python/att-string-count.html)**            | 返回 str 在 string 里面出现的次数，如果 beg 或者 end 指定则返回指定范围内 str 出现的次数 |\n",
    "| [string.decode(encoding='UTF-8', errors='strict')](https://www.runoob.com/python/att-string-decode.html)        | 以 encoding 指定的编码格式解码 string，如果出错默认报一个 ValueError 的 异 常 ， 除非 errors 指 定 的 是 'ignore' 或 者'replace' |\n",
    "| [string.encode(encoding='UTF-8', errors='strict')](https://www.runoob.com/python/att-string-encode.html)        | 以 encoding 指定的编码格式编码 string，如果出错默认报一个ValueError 的异常，除非 errors 指定的是'ignore'或者'replace' |\n",
    "| **[string.endswith(obj, beg=0, end=len(string))](https://www.runoob.com/python/att-string-endswith.html)**      | 检查字符串是否以 obj 结束，如果beg 或者 end 指定则检查指定的范围内是否以 obj 结束，如果是，返回 True,否则返回 False. |\n",
    "| [string.expandtabs(tabsize=8)](https://www.runoob.com/python/att-string-expandtabs.html)                        | 把字符串 string 中的 tab 符号转为空格，tab 符号默认的空格数是 8。 |\n",
    "| **[string.find(str, beg=0, end=len(string))](https://www.runoob.com/python/att-string-find.html)**              | 检测 str 是否包含在 string 中，如果 beg 和 end 指定范围，则检查是否包含在指定范围内，如果是返回开始的索引值，否则返回-1 |\n",
    "| **[string.format()](https://www.runoob.com/python/att-string-format.html)**                                     | 格式化字符串                                                 |\n",
    "| **[string.index(str, beg=0, end=len(string))](https://www.runoob.com/python/att-string-index.html)**            | 跟find()方法一样，只不过如果str不在 string中会报一个异常.    |\n",
    "| [string.isalnum()](https://www.runoob.com/python/att-string-isalnum.html)                                       | 如果 string 至少有一个字符并且所有字符都是字母或数字则返回 True,否则返回 False |\n",
    "| [string.isalpha()](https://www.runoob.com/python/att-string-isalpha.html)                                       | 如果 string 至少有一个字符并且所有字符都是字母则返回 True,否则返回 False |\n",
    "| [string.isdecimal()](https://www.runoob.com/python/att-string-isdecimal.html)                                   | 如果 string 只包含十进制数字则返回 True 否则返回 False.      |\n",
    "| [string.isdigit()](https://www.runoob.com/python/att-string-isdigit.html)                                       | 如果 string 只包含数字则返回 True 否则返回 False.            |\n",
    "| [string.islower()](https://www.runoob.com/python/att-string-islower.html)                                       | 如果 string 中包含至少一个区分大小写的字符，并且所有这些(区分大小写的)字符都是小写，则返回 True，否则返回 False |\n",
    "| [string.isnumeric()](https://www.runoob.com/python/att-string-isnumeric.html)                                   | 如果 string 中只包含数字字符，则返回 True，否则返回 False    |\n",
    "| [string.isspace()](https://www.runoob.com/python/att-string-isspace.html)                                       | 如果 string 中只包含空格，则返回 True，否则返回 False.       |\n",
    "| [string.istitle()](https://www.runoob.com/python/att-string-istitle.html)                                       | 如果 string 是标题化的(见 title())则返回 True，否则返回 False |\n",
    "| [string.isupper()](https://www.runoob.com/python/att-string-isupper.html)                                       | 如果 string 中包含至少一个区分大小写的字符，并且所有这些(区分大小写的)字符都是大写，则返回 True，否则返回 False |\n",
    "| **[string.join(seq)](https://www.runoob.com/python/att-string-join.html)**                                      | 以 string 作为分隔符，将 seq 中所有的元素(的字符串表示)合并为一个新的字符串 |\n",
    "| [string.ljust(width)](https://www.runoob.com/python/att-string-ljust.html)                                      | 返回一个原字符串左对齐,并使用空格填充至长度 width 的新字符串 |\n",
    "| [string.lower()](https://www.runoob.com/python/att-string-lower.html)                                           | 转换 string 中所有大写字符为小写.                            |\n",
    "| [string.lstrip()](https://www.runoob.com/python/att-string-lstrip.html)                                         | 截掉 string 左边的空格                                       |\n",
    "| [string.maketrans(intab, outtab)](https://www.runoob.com/python/att-string-maketrans.html)                      | maketrans() 方法用于创建字符映射的转换表，对于接受两个参数的最简单的调用方式，第一个参数是字符串，表示需要转换的字符，第二个参数也是字符串表示转换的目标。 |\n",
    "| [max(str)](https://www.runoob.com/python/att-string-max.html)                                                   | 返回字符串 *str* 中最大的字母。                              |\n",
    "| [min(str)](https://www.runoob.com/python/att-string-min.html)                                                   | 返回字符串 *str* 中最小的字母。                              |\n",
    "| **[string.partition(str)](https://www.runoob.com/python/att-string-partition.html)**                            | 有点像 find()和 split()的结合体,从 str 出现的第一个位置起,把 字 符 串 string 分 成 一 个 3 元 素 的 元 组 (string_pre_str,str,string_post_str),如果 string 中不包含str 则 string_pre_str == string. |\n",
    "| **[string.replace(str1, str2, num=string.count(str1))](https://www.runoob.com/python/att-string-replace.html)** | 把 string 中的 str1 替换成 str2,如果 num 指定，则替换不超过 num 次. |\n",
    "| [string.rfind(str, beg=0,end=len(string) )](https://www.runoob.com/python/att-string-rfind.html)                | 类似于 find() 函数，返回字符串最后一次出现的位置，如果没有匹配项则返回 -1。 |\n",
    "| [string.rindex( str, beg=0,end=len(string))](https://www.runoob.com/python/att-string-rindex.html)              | 类似于 index()，不过是返回最后一个匹配到的子字符串的索引号。 |\n",
    "| [string.rjust(width)](https://www.runoob.com/python/att-string-rjust.html)                                      | 返回一个原字符串右对齐,并使用空格填充至长度 width 的新字符串 |\n",
    "| [string.rpartition(str)](https://www.runoob.com/python/att-string-rpartition.html)                              | 类似于 partition()函数,不过是从右边开始查找                  |\n",
    "| [string.rstrip()](https://www.runoob.com/python/att-string-rstrip.html)                                         | 删除 string 字符串末尾的空格.                                |\n",
    "| **[string.split(str=\"\", num=string.count(str))](https://www.runoob.com/python/att-string-split.html)**          | 以 str 为分隔符切片 string，如果 num 有指定值，则仅分隔 **num+1** 个子字符串 |\n",
    "| [string.splitlines(\\[keepends\\])](https://www.runoob.com/python/att-string-splitlines.html)                     | 按照行('\\r', '\\r\\n', '\\n')分隔，返回一个包含各行作为元素的列表，如果参数 keepends 为 False，不包含换行符，如果为 True，则保留换行符。 |\n",
    "| [string.startswith(obj, beg=0,end=len(string))](https://www.runoob.com/python/att-string-startswith.html)       | 检查字符串是否是以 obj 开头，是则返回 True，否则返回 False。如果beg 和 end 指定值，则在指定范围内检查. |\n",
    "| **[string.strip(\\[obj\\])](https://www.runoob.com/python/att-string-strip.html)**                                | 在 string 上执行 lstrip()和 rstrip()                         |\n",
    "| [string.swapcase()](https://www.runoob.com/python/att-string-swapcase.html)                                     | 翻转 string 中的大小写                                       |\n",
    "| [string.title()](https://www.runoob.com/python/att-string-title.html)                                           | 返回\"标题化\"的 string,就是说所有单词都是以大写开始，其余字母均为小写(见 istitle()) |\n",
    "| **[string.translate(str, del=\"\")](https://www.runoob.com/python/att-string-translate.html)**                    | 根据 str 给出的表(包含 256 个字符)转换 string 的字符,要过滤掉的字符放到 del 参数中 |\n",
    "| [string.upper()](https://www.runoob.com/python/att-string-upper.html)                                           | 转换 string 中的小写字母为大写                               |\n",
    "| [string.zfill(width)](https://www.runoob.com/python/att-string-zfill.html)                                      | 返回长度为 width 的字符串，原字符串 string 右对齐，前面填充0 |"
   ]
  },
  {
   "cell_type": "markdown",
   "id": "595ba79db095461c",
   "metadata": {},
   "source": [
    "### 输入输出"
   ]
  },
  {
   "cell_type": "markdown",
   "id": "e5f1cdaa251bd8a2",
   "metadata": {},
   "source": [
    "#### 特定格式的输入"
   ]
  },
  {
   "cell_type": "code",
   "execution_count": null,
   "id": "c68d3ece36166ea4",
   "metadata": {},
   "outputs": [],
   "source": [
    "a, b = map(int, input().split())"
   ]
  },
  {
   "cell_type": "markdown",
   "id": "2197e35a49d1c03a",
   "metadata": {},
   "source": [
    "#### 格式化输出"
   ]
  },
  {
   "cell_type": "code",
   "execution_count": null,
   "id": "4b3b9e6ae79d308d",
   "metadata": {},
   "outputs": [],
   "source": [
    "age, high = 19, 173.5\n",
    "fun = lambda x:18 if x>18 else x\n",
    "print(f'age={fun(age)} age=%d high=%.2f high={high:.2f}' % (age, high))"
   ]
  },
  {
   "cell_type": "markdown",
   "id": "c5d2666bc51db03c",
   "metadata": {},
   "source": [
    "### 基础使用"
   ]
  },
  {
   "cell_type": "code",
   "execution_count": null,
   "id": "204281b4321227a3",
   "metadata": {},
   "outputs": [],
   "source": [
    "s = \"abc123bcd343bbsd000abcdefccc\""
   ]
  },
  {
   "cell_type": "markdown",
   "id": "29d7c69457d69291",
   "metadata": {},
   "source": [
    "#### 切片与翻转"
   ]
  },
  {
   "cell_type": "code",
   "execution_count": null,
   "id": "18104b81a004445b",
   "metadata": {},
   "outputs": [],
   "source": [
    "print(\"切片与翻转：\",s[3:9][::-1])"
   ]
  },
  {
   "cell_type": "markdown",
   "id": "6c7317f0241a3c2e",
   "metadata": {},
   "source": [
    "#### 计数\n",
    "\n",
    "count()"
   ]
  },
  {
   "cell_type": "code",
   "execution_count": null,
   "id": "b6762ed93edd20ac",
   "metadata": {},
   "outputs": [],
   "source": [
    "print(f'计数 \\n \\'abc\\':{s.count(\"abc\"):3} \\n \\'234\\':{s.count(\"234\"):3}')"
   ]
  },
  {
   "cell_type": "markdown",
   "id": "9b0535dad9f7f3fa",
   "metadata": {},
   "source": [
    "#### 查找\n",
    "\n",
    "index()与find()功能和结构相同"
   ]
  },
  {
   "cell_type": "code",
   "execution_count": null,
   "id": "63f2cf899f021ee8",
   "metadata": {},
   "outputs": [],
   "source": [
    "print(f'位置 \\n \\'abc\\':{s.index(\"abc\"):3} (从头开始找) \\n \\'abc\\':{s.index(\"abc\",10):3} (从下标为10开始找) \\n \\'bcd\\':{s.index(\"bcd\"):3}')"
   ]
  },
  {
   "cell_type": "markdown",
   "id": "8a6b6ded0b25ec2e",
   "metadata": {},
   "source": [
    "#### 切分"
   ]
  },
  {
   "cell_type": "code",
   "execution_count": null,
   "id": "7857fabd4ccad600",
   "metadata": {},
   "outputs": [],
   "source": [
    "print(s.split(\"bcd\"))"
   ]
  },
  {
   "cell_type": "markdown",
   "id": "53f85d182e79b45b",
   "metadata": {},
   "source": [
    "#### 替换\n",
    "\n",
    "替换子串：replace()\n",
    "\n",
    "替换多个不同的字符串：re.sub()，re.subn()\n",
    "\n",
    "用正则表达式替换：re.sub()，re.subn()\n",
    "\n",
    "根据位置来替换：slice()"
   ]
  },
  {
   "cell_type": "code",
   "execution_count": null,
   "id": "cbf1e9214d11c12b",
   "metadata": {},
   "outputs": [],
   "source": [
    "print(s.replace('bc', '--'))\n",
    "print(s.replace('bc', '--', 2))    #指定最大替换次数n\n",
    "print(s.replace('3', 'd').replace('000', 'bcd').replace('bcd', '---'))    #链式多次调用"
   ]
  },
  {
   "cell_type": "markdown",
   "id": "2f970470",
   "metadata": {},
   "source": [
    "#### join\n",
    "\n",
    "Python join() 方法用于将序列中的元素以指定的字符连接生成一个新的字符串。"
   ]
  },
  {
   "cell_type": "code",
   "execution_count": null,
   "id": "b18308e4",
   "metadata": {},
   "outputs": [],
   "source": [
    "symbol = \"-\"\n",
    "seq = (\"a\", \"b\", \"c\") # 字符串序列\n",
    "print(symbol.join(seq))\n",
    "\n",
    "text = \"\".join(\"abcd\")\n",
    "print(text)"
   ]
  }
 ],
 "metadata": {
  "kernelspec": {
   "display_name": "Python 3",
   "language": "python",
   "name": "python3"
  },
  "language_info": {
   "codemirror_mode": {
    "name": "ipython",
    "version": 3
   },
   "file_extension": ".py",
   "mimetype": "text/x-python",
   "name": "python",
   "nbconvert_exporter": "python",
   "pygments_lexer": "ipython3",
   "version": "3.9.6"
  }
 },
 "nbformat": 4,
 "nbformat_minor": 5
}
