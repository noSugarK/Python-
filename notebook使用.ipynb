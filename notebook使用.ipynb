{
 "cells": [
  {
   "cell_type": "markdown",
   "id": "01fb2a29",
   "metadata": {},
   "source": [
    "## 魔法命令"
   ]
  },
  {
   "cell_type": "markdown",
   "id": "c25cb259",
   "metadata": {},
   "source": [
    "Jupyter Notebook 提供了一些魔法命令，可以帮助您更好地使用笔记本。以下是一些常用的魔法命令：\n",
    "\n",
    "- ```%load```：加载外部文件。\n",
    "- <code>%time</code>：测量代码运行时间。\n",
    "- ```%matplotlib inline```：在笔记本中显示图表。\n"
   ]
  }
 ],
 "metadata": {
  "language_info": {
   "name": "python"
  }
 },
 "nbformat": 4,
 "nbformat_minor": 5
}
