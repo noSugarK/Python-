{
 "cells": [
  {
   "cell_type": "markdown",
   "id": "54d74c2e73251b45",
   "metadata": {},
   "source": [
    "## re模块\n",
    "\n",
    "https://blog.csdn.net/guo_qingxia/article/details/113979135"
   ]
  },
  {
   "cell_type": "code",
   "execution_count": null,
   "id": "e8e87a0e2bd3c708",
   "metadata": {},
   "outputs": [],
   "source": [
    "import re\n",
    "print(dir(re))"
   ]
  },
  {
   "cell_type": "markdown",
   "id": "c6ba8c238faf8b6a",
   "metadata": {},
   "source": [
    "### 匹配规则"
   ]
  },
  {
   "cell_type": "markdown",
   "id": "bf2da2a5be778785",
   "metadata": {},
   "source": [
    "#### 匹配单个字符\n",
    "\n",
    "| 字符    | 功能\t                      | 位置            |\n",
    "|-------|--------------------------|---------------|\n",
    "| .     | 匹配任意1个字符（除了\\n）           |               |\n",
    "| []    | \t匹配[ ]中列举的字符             |               |\n",
    "| \\d    | 匹配数字，即0-9\t               | 可以写在字符集[...]中 |\n",
    "| \\D    | 匹配⾮数字，即不是数字\t             | 可以写在字符集[...]中 |\n",
    "| \\s    | 匹配空⽩，即空格，tab键\t           | 可以写在字符集[...]中 |\n",
    "| \\S    | 匹配⾮空⽩字符\t                 | 可以写在字符集[...]中 |\n",
    "| \\w    | 匹配单词字符，即a-z、A-Z、0-9、_\t   | 可以写在字符集[...]中 |\n",
    "| \\W    | 匹配⾮单词字符\t                 | 可以写在字符集[...]中 |\n",
    "| \\w    | \\w 匹配单词字符，即a-z、A-Z、0-9、_ |               |\n",
    "| \\W    | 匹配⾮单词字符                  |               |\n"
   ]
  },
  {
   "cell_type": "markdown",
   "id": "2c6cdc9461b3c66e",
   "metadata": {},
   "source": [
    "#### 匹配多个字符\n",
    "\n",
    "| 字符\t    | 功能\t                                        | 位置\t           | 表达式实例\t    | 完整匹配的字符串 |\n",
    "|--------|--------------------------------------------|---------------|-----------|----------|\n",
    "| *\t     | 匹配前⼀个字符出现0次或者⽆限次，即可有可⽆\t                    | 用在字符或(...)之后\t | abc*\t     | abccc    |\n",
    "| +\t     | 匹配前⼀个字符出现1次或者⽆限次，即⾄少有1次\t                   | 用在字符或(...)之后\t | abc+\t     | abccc    |\n",
    "| ?\t     | 匹配前⼀个字符出现1次或者0次，即要么有1次，要么没有\t               | 用在字符或(...)之后\t | abc?\t     | ab,abc   |\n",
    "| {m}\t   | 匹配前⼀个字符出现m次\t                               | 用在字符或(...)之后\t | ab{2}c\t   | abbc     |\n",
    "| {m,n}\t | 匹配前⼀个字符出现从m到n次，若省略m，则匹配0到n次，若省略n，则匹配m到无限次\t | 用在字符或(...)之后\t | ab{1,2}c\t | abc,abbc |\n"
   ]
  },
  {
   "cell_type": "markdown",
   "id": "7280ddff30b82dbb",
   "metadata": {},
   "source": [
    "#### 匹配开头结尾\n",
    "\n",
    "| 字符\t | 功能      |\n",
    "|-----|---------|\n",
    "| ^\t  | 匹配字符串开头 |\n",
    "| $\t  | 匹配字符串结尾 |\n"
   ]
  },
  {
   "cell_type": "markdown",
   "id": "43316e30cfc1c995",
   "metadata": {},
   "source": [
    "#### 匹配分组\n",
    "\n",
    "| 字符\t         | 功能                               |\n",
    "|-------------|----------------------------------|\n",
    "| \\|          | 匹配左右任意⼀个表达式                      |\n",
    "| (ab)\t       | 将括号中字符作为⼀个分组                     |\n",
    "| \\num\t       | 引⽤分组num匹配到的字符串                   |\n",
    "| (?P<name>)\t | 分组起别名，匹配到的子串组在外部是通过定义的 name 来获取的 |\n",
    "| (?P=name)\t  | 引⽤别名为name分组匹配到的字符串               |"
   ]
  },
  {
   "cell_type": "code",
   "execution_count": null,
   "id": "64eacb08f5fc5440",
   "metadata": {},
   "outputs": [],
   "source": [
    "labels = [\"<html><h1>www.itcast.cn</h1></html>\", \"<html><h1>www.itcast.cn</h2></html>\"]\n",
    "for label in labels:\n",
    "    ret = re.match(r\"<(\\w*)><(\\w*)>.*</\\2></\\1>\", label)\n",
    "    if ret:\n",
    "        print(\"%s 是符合要求的标签\" % ret.group())\n",
    "    else:\n",
    "        print(\"%s 不符合要求\" % label)"
   ]
  },
  {
   "cell_type": "code",
   "execution_count": null,
   "id": "273e736b55484503",
   "metadata": {},
   "outputs": [],
   "source": [
    "ret = re.match(r\"<(?P<name1>\\w*)><(?P<name2>\\w*)>.*</(?P=name2)></(?P=name1)>\",\"<html><h1>www.itcast.cn</h1></html>\")\n",
    "print(ret.group())\n",
    "ret = re.match(r\"<(?P<name1>\\w*)><(?P<name2>\\w*)>.*</(?P=name2)></(?P=name1)>\",\"<html><h1>www.itcast.cn</h2></html>\")\n",
    "# print(ret.group())"
   ]
  },
  {
   "cell_type": "markdown",
   "id": "5488c2e456705164",
   "metadata": {},
   "source": [
    "### match()\n",
    "\n",
    "re.match 尝试从字符串的起始位置匹配一个模式，如果不是起始位置匹配成功的话，match() 就返回 none。"
   ]
  },
  {
   "cell_type": "markdown",
   "id": "960ac4cc425c64e6",
   "metadata": {},
   "source": [
    "函数语法\n",
    "\n",
    "```python\n",
    "re.match(pattern, string, flags=0)\n",
    "```\n",
    "\n",
    "| *参数*    | *描述*                                                      |\n",
    "|:--------|:----------------------------------------------------------|\n",
    "| pattern | 匹配的正则表达式                                                  |\n",
    "| string  | 要匹配的字符串                                                   |\n",
    "| flags   | 标志位，用于控制正则表达式的匹配方式，如：是否区分大小写，多行匹配等等<br />re.I 忽略大小写<br/>re.L 表示特殊字符集 \\w, \\W, \\b, \\B, \\s, \\S 依赖于当前环境<br/>re.M 多行模式<br/>re.S 即为 . 并且包括换行符在内的任意字符（. 不包括换行符）<br/>re.U 表示特殊字符集 \\w, \\W, \\b, \\B, \\d, \\D, \\s, \\S 依赖于 Unicode 字符属性数据库<br/>re.X 为了增加可读性，忽略空格和 # 后面的注释 |\n",
    "\n",
    "匹配成功 re.match 方法返回一个匹配的对象，否则返回 None。\n",
    "\n",
    "我们可以使用 group(num) 或 groups() 匹配对象函数来获取匹配表达式。\n",
    "\n",
    "| 匹配对象方法\t       | 描述                                                        |\n",
    "|---------------|-----------------------------------------------------------|\n",
    "| group(num=0)\t | 匹配的整个表达式的字符串，group() 可以一次输入多个组号，在这种情况下它将返回一个包含那些组所对应值的元组。 |\n",
    "| groups()\t     | 返回一个包含所有小组字符串的元组，从 1 到 所含的小组号。                            |"
   ]
  },
  {
   "cell_type": "code",
   "execution_count": null,
   "id": "b98e426a20ae1ccf",
   "metadata": {},
   "outputs": [],
   "source": [
    "print(re.match('www', 'www.runoob.com'))  # 在起始位置匹配\n",
    "print(re.match('com', 'www.runoob.com'))         # 不在起始位置匹配"
   ]
  },
  {
   "cell_type": "markdown",
   "id": "d14dea0871633ca",
   "metadata": {},
   "source": [
    "### search()\n",
    "\n",
    "re.search 扫描整个字符串并返回第一个成功的匹配。"
   ]
  },
  {
   "cell_type": "markdown",
   "id": "245b0a8eac88b615",
   "metadata": {},
   "source": [
    "函数语法：\n",
    "\n",
    "```python\n",
    "re.search(pattern, string, flags=0)\n",
    "```"
   ]
  },
  {
   "cell_type": "code",
   "execution_count": null,
   "id": "4b43db8d7cfb9a67",
   "metadata": {},
   "outputs": [],
   "source": [
    "print(re.search('www', 'www.runoob.com').span())  # 在起始位置匹配\n",
    "print(re.search('com', 'www.runoob.com').span())  # 不在起始位置匹配"
   ]
  },
  {
   "cell_type": "code",
   "execution_count": null,
   "id": "914d5d52a5298eee",
   "metadata": {},
   "outputs": [],
   "source": [
    "res = re.search(r'[a-z0-9A-Z]*\\@(163|qq|126)\\.(cn|com)',\"????abc898989@163.com675876fhffgdhc@qq.com\")\n",
    "print(res.group())\n",
    "print(res.group(1))\n",
    "print(res.group(2))"
   ]
  },
  {
   "cell_type": "markdown",
   "id": "685726d2b6d2db2",
   "metadata": {},
   "source": [
    "### re.match与re.search的区别\n",
    "\n",
    "re.match只匹配字符串的开始，如果字符串开始不符合正则表达式，则匹配失败，函数返回None；\n",
    "\n",
    "而re.search匹配整个字符串，直到找到一个匹配。"
   ]
  },
  {
   "cell_type": "markdown",
   "id": "d46328fbdfbd3640",
   "metadata": {},
   "source": [
    "### sub()\n",
    "检索和替换"
   ]
  },
  {
   "cell_type": "markdown",
   "id": "3e82b83eb186ce9d",
   "metadata": {},
   "source": [
    "Python 的 re 模块提供了re.sub用于替换字符串中的匹配项。\n",
    "\n",
    "函数语法：\n",
    "\n",
    "```python\n",
    "re.sub(pattern, repl, string, count=0, flags=0)\n",
    "```\n",
    "\n",
    "| 参数      | 功能                           |\n",
    "|---------|------------------------------|\n",
    "| pattern | 正则中的模式字符串。                   |\n",
    "| repl    | 替换的字符串，也可为一个函数。              |\n",
    "| string  | 要被查找替换的原始字符串。                |\n",
    "| count   | 模式匹配后替换的最大次数，默认 0 表示替换所有的匹配。 |"
   ]
  },
  {
   "cell_type": "code",
   "execution_count": null,
   "id": "777fa4037ec33935",
   "metadata": {},
   "outputs": [],
   "source": [
    "phone = \"2004-959-559 # 这是一个国外电话号码\"\n",
    "\n",
    "# 删除字符串中的 Python注释\n",
    "num = re.sub(r'#.*$', \"\", phone)\n",
    "print(\"电话号码是: \", num)\n",
    "\n",
    "# 删除非数字(-)的字符串\n",
    "num = re.sub(r'\\D', \"\", phone)\n",
    "print(\"电话号码是 : \", num)"
   ]
  },
  {
   "cell_type": "markdown",
   "id": "14cf371b297114f3",
   "metadata": {},
   "source": [
    "#### repl 参数是一个函数\n",
    "\n",
    "以下实例中将字符串中的匹配的数字乘以 2："
   ]
  },
  {
   "cell_type": "code",
   "execution_count": null,
   "id": "d1570c3d65dbfb91",
   "metadata": {},
   "outputs": [],
   "source": [
    "# 将匹配的数字乘以 2\n",
    "def fun(matched):\n",
    "    value = int(matched.group('value'))\n",
    "    return str(value * 2)\n",
    "\n",
    "s = 'A23G4HFD567'\n",
    "print(re.sub(r'(?P<value>\\d+)', fun, s))"
   ]
  }
 ],
 "metadata": {
  "kernelspec": {
   "display_name": "Python 3",
   "language": "python",
   "name": "python3"
  },
  "language_info": {
   "codemirror_mode": {
    "name": "ipython",
    "version": 3
   },
   "file_extension": ".py",
   "mimetype": "text/x-python",
   "name": "python",
   "nbconvert_exporter": "python",
   "pygments_lexer": "ipython3",
   "version": "3.9.6"
  }
 },
 "nbformat": 4,
 "nbformat_minor": 5
}
