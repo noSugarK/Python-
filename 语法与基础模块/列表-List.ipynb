{
 "cells": [
  {
   "cell_type": "markdown",
   "id": "ab68a717",
   "metadata": {},
   "source": [
    "## Python列表函数&方法"
   ]
  },
  {
   "cell_type": "markdown",
   "id": "f22d878c",
   "metadata": {},
   "source": [
    "### Python包含以下函数"
   ]
  },
  {
   "cell_type": "markdown",
   "id": "3be9a1a9",
   "metadata": {},
   "source": [
    "|函数|功能|备注|\n",
    "|------|-----|-------|\n",
    "|cmp(list1, list2)|比较两个列表的元素|3.0开始已被弃用,可以使用(a>b)-(a<b)|\n",
    "|len(list)|列表元素个数||\n",
    "|max(list)|返回列表元素最大值||\n",
    "|min(list)|返回列表元素最小值||\n",
    "|list(seq)|将元组转换为列表||"
   ]
  },
  {
   "cell_type": "code",
   "execution_count": null,
   "id": "324139ed",
   "metadata": {},
   "outputs": [],
   "source": [
    "a = [123,'bcd']\n",
    "b = [123,'abc']\n",
    "print((a>b)-(a<b))"
   ]
  },
  {
   "cell_type": "markdown",
   "id": "ca47a031",
   "metadata": {},
   "source": [
    "### Python包含以下方法"
   ]
  },
  {
   "cell_type": "markdown",
   "id": "f3074928",
   "metadata": {},
   "source": [
    "|序号\t|方法|\n",
    "|-----|------|\n",
    "|list.append(obj)|在列表末尾添加新的对象|\n",
    "|list.count(obj)|统计某个元素在列表中出现的次数|\n",
    "|list.extend(seq)|在列表末尾一次性追加另一个序列中的多个值（用新列表扩展原来的列表）|\n",
    "|list.index(obj)|从列表中找出某个值第一个匹配项的索引位置|\n",
    "|list.insert(index, obj)|将对象插入列表|\n",
    "|list.pop([index=-1])|移除列表中的一个元素（默认最后一个元素），并且返回该元素的值|\n",
    "|list.remove(obj)|移除列表中某个值的第一个匹配项|\n",
    "|list.reverse()|反向列表中元素|\n",
    "|list.sort(cmp=None, key=None, reverse=False)|对原列表进行排序|"
   ]
  },
  {
   "cell_type": "markdown",
   "id": "dde39934",
   "metadata": {},
   "source": [
    "### del 语句\n",
    "\n",
    "使用 del 语句可以从一个列表中根据索引来删除一个元素，而不是值来删除元素。这与使用 pop() 返回一个值不同。\n",
    "\n",
    "可以用 del 语句从列表中删除一个切割，或清空整个列表（我们以前介绍的方法是给该切割赋一个空列表）。例如："
   ]
  },
  {
   "cell_type": "code",
   "execution_count": null,
   "id": "7e8709a0",
   "metadata": {},
   "outputs": [],
   "source": [
    "a = [-1, 1, 66.25, 333, 333, 1234.5]\n",
    "del a[0]\n",
    "print(a)\n",
    "del a[2:4]\n",
    "print(a)\n",
    "del a[:]\n",
    "print(a)"
   ]
  },
  {
   "cell_type": "markdown",
   "id": "508488ba",
   "metadata": {},
   "source": [
    "[字典排序](基础函数.ipynb)"
   ]
  }
 ],
 "metadata": {
  "kernelspec": {
   "display_name": "Python 3",
   "language": "python",
   "name": "python3"
  },
  "language_info": {
   "codemirror_mode": {
    "name": "ipython",
    "version": 3
   },
   "file_extension": ".py",
   "mimetype": "text/x-python",
   "name": "python",
   "nbconvert_exporter": "python",
   "pygments_lexer": "ipython3",
   "version": "3.9.6"
  }
 },
 "nbformat": 4,
 "nbformat_minor": 5
}
