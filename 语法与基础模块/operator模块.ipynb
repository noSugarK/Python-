{
 "cells": [
  {
   "cell_type": "markdown",
   "id": "b5d6ce9c",
   "metadata": {},
   "source": [
    "## 运算符模块"
   ]
  },
  {
   "cell_type": "markdown",
   "id": "a76ba4d5",
   "metadata": {},
   "source": [
    "### 所用函数用法"
   ]
  },
  {
   "cell_type": "code",
   "execution_count": null,
   "id": "7cd45458",
   "metadata": {},
   "outputs": [],
   "source": [
    "import operator\n",
    "print(dir(operator))"
   ]
  },
  {
   "cell_type": "markdown",
   "id": "090c5e01",
   "metadata": {},
   "source": [
    "|函数\t|运算\t|语法|\n",
    "|----------|------|--------|\n",
    "|operator.add(a, b)\t|加法\t|a + b|\n",
    "|operator.concat(a, b)\t|字符串拼接\t|'a + b'|\n",
    "|operator.contains(a, b)\t|包含\t|b in a?|\n",
    "|operator.sub(a, b)\t|减法\t|a - b|\n",
    "|operator.mul(a, b)\t|乘法\t|a * b|\n",
    "|operator.matmul(a, b)\t|矩阵乘法\t|a @ b|\n",
    "|operator.truediv(a, b)\t|除法\t|a / b|\n",
    "|operator.floordiv(a, b)\t|除法\t|a // b|\n",
    "|operator.neg(a)\t|取反（算术）\t|- a|\n",
    "|operator.not_(a)\t|取反（逻辑）\t|not a|\n",
    "|operator.pos(a)\t|正数\t|+ a|\n",
    "|operator.and_(a, b)\t|按位与\t|a & b|\n",
    "|operator.xor(a, b)\t|按位异或\t|a ^ b|\n",
    "|operator.inv(a)\t|按位取反\t|~ a|\n",
    "|operator.or_(a, b)\t|按位或\t|a | b|\n",
    "|operator.pow(a, b)\t|取幂\t|a ** b|\n",
    "|operator.mod(a, b)\t|取模\t|a % b|\n",
    "|operator.abs(a)\t|取绝对值\t|\\| a \\||\n",
    "|operator.index(a)\t|取整\t||\n",
    "|operator.is_(a, b)\t|返回 a is b\t|a is b?|\n",
    "|operator.is_not(a, b)\t|返回 a is not b\t|a is not b?|\n",
    "|operator.truth(a)\t|如果 a 为真值则返回 True\t|truth a?|\n",
    "|operator.countOf(a, b)\t|返回出现次数\t||\n",
    "|operator.indexOf(a, b)\t|返回首次出现所在的索引号\t||\n",
    "|operator.length_hint(obj, default=0)\t|返回obj的估计长度\t||\n",
    "|operator.setitem(a, b, c)\t|索引赋值\t|a[b] = c|\n",
    "|operator.delitem(a, b)\t|索引删除\t|del a[b]|\n",
    "|operator.getitem(a, b)\t|索引取值\t|a[b]|\n",
    "|operator.setitem(a, slice(i, j), c)\t|切片赋值\t|a[i:j] = c|\n",
    "|operator.delitem(a, slice(i, j))\t|切片删除\t|del a[i:j]|\n",
    "|operator.getitem(a, slice(i, j))\t|切片取值\t|a[i:j]|\n",
    "|operator.lshift(a, b)\t|左移\t|a << b|\n",
    "|operator.rshift(a, b)\t|右移\t|a >> b|\n",
    "|operator.lt(a, b)\t|小于\t|a < b|\n",
    "|operator.le(a, b)\t|小于等于\t|a ≤ b|\n",
    "|operator.eq(a, b)\t|等于\t|a == b|\n",
    "|operator.ne(a, b)\t|不等于\t|a != b|\n",
    "|operator.ge(a, b)\t|大于等于\t|a ≥ b|\n",
    "|operator.gt(a, b)\t|大于\t|a > b|\n",
    "|operator.attrgetter(*attrs)\t|返回一个可从操作数中获取 attr 的可调用对象。 如果请求了一个以上的属性，则返回一个属性元组。 属性名称还可包含点号\t|在 f = attrgetter('name.first', 'name.last') 之后，调用 f(b) 将返回 (b.name.first, b.name.last)|\n",
    "|operator.itemgetter(*items)\t|返回一个使用操作数的 __getitem__() 方法从操作数中获取 item 的可调用对象。 如果指定了多个条目，则返回一个查找值的元组\t|在 g = itemgetter(2, 5, 3) 之后，调用 g(r) 将返回 (r[2], r[5], r[3])|\n",
    "|operator.methodcaller(name, /, *args, **kwargs)\t|返回一个在操作数上调用 name 方法的可调用对象。 如果给出额外的参数和/或关键字参数，它们也将被传给该方法\t|在 f = methodcaller('name', 'foo', bar=1) 之后，调用 f(b) 将返回 b.name('foo', bar=1)|\n",
    "|operator.iadd(a, b)\t|迭加\t|a += b|\n",
    "|operator.iconcat(a, b)\t|迭加，a 和 b 为序列\t|a += b|\n",
    "|operator.isub(a, b)\t|迭减\t|a -= b|\n",
    "|operator.imul(a, b)\t|迭乘\t|a *= b|\n",
    "|operator.imatmul(a, b)\t|迭代矩阵乘法\t|a @= b|\n",
    "|operator.itruediv(a, b)\t|迭除\t|a /= b|\n",
    "|perator.ifloordiv(a, b)\t|迭除\t|a //= b|\n",
    "|operator.iand(a, b)\t|迭代按位与\t|a &= b|\n",
    "|operator.ixor(a, b)\t|迭代按位异或\t|a ^= b|\n",
    "|operator.ior(a, b)\t|迭代按位或\t|a |= b|\n",
    "|operator.ipow(a, b)\t|迭代取幂\t|a **= b|\n",
    "|operator.imod(a, b)\t|迭代取模\t|a %= b|\n",
    "|operator.ilshift(a, b)\t|迭代左移\t|a <<= b|\n",
    "|operator.irshift(a, b)\t|迭代右移\t|a >>= b|"
   ]
  },
  {
   "cell_type": "markdown",
   "id": "497448b2",
   "metadata": {},
   "source": [
    "### 字典排序"
   ]
  },
  {
   "cell_type": "code",
   "execution_count": null,
   "id": "dc58fe2f",
   "metadata": {},
   "outputs": [],
   "source": [
    "import operator\n",
    "dic={'a': 4, 'b': 3, 'c': 2, 'd': 1}\n",
    "sorted(dic.items(), key=operator.itemgetter(1))"
   ]
  }
 ],
 "metadata": {
  "kernelspec": {
   "display_name": "Python 3",
   "language": "python",
   "name": "python3"
  },
  "language_info": {
   "codemirror_mode": {
    "name": "ipython",
    "version": 3
   },
   "file_extension": ".py",
   "mimetype": "text/x-python",
   "name": "python",
   "nbconvert_exporter": "python",
   "pygments_lexer": "ipython3",
   "version": "3.9.6"
  }
 },
 "nbformat": 4,
 "nbformat_minor": 5
}
