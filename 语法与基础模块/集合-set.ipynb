{
 "cells": [
  {
   "cell_type": "markdown",
   "id": "24462940",
   "metadata": {},
   "source": [
    "## 集合"
   ]
  },
  {
   "cell_type": "markdown",
   "id": "977a687f",
   "metadata": {},
   "source": [
    "### 创建集合"
   ]
  },
  {
   "cell_type": "code",
   "execution_count": null,
   "id": "c2786d59",
   "metadata": {},
   "outputs": [],
   "source": [
    "set1 = {1,2,3,4,1}\n",
    "set2 = set([1,2,3,4,2])\n",
    "print(set1,set2)\n",
    "\n",
    "a = set('asddfefe')\n",
    "b = set('addkkqlw')\n",
    "print(a,b,a-b,a|b,a&b,a^b,sep='\\n')"
   ]
  },
  {
   "cell_type": "markdown",
   "id": "9197b6fb",
   "metadata": {},
   "source": [
    "### 添加\n",
    "\n",
    "add()\n",
    "\n",
    "update()"
   ]
  },
  {
   "cell_type": "code",
   "execution_count": null,
   "id": "528dd114",
   "metadata": {},
   "outputs": [],
   "source": [
    "set1.add(5)\n",
    "print(set1)\n",
    "set1.update({1,6})\n",
    "print(set1)\n",
    "set1.update([8,9],[10,11])\n",
    "print(set1)"
   ]
  },
  {
   "cell_type": "markdown",
   "id": "c1d5547b",
   "metadata": {},
   "source": [
    "### 删除\n",
    "\n",
    "remove()\n",
    "\n",
    "discard()\n",
    "\n",
    "pop()"
   ]
  },
  {
   "cell_type": "code",
   "execution_count": null,
   "id": "8e9bec2b",
   "metadata": {},
   "outputs": [],
   "source": [
    "set1 = {1,2,3,4,5}\n",
    "set1.remove(1)\n",
    "print(set1)\n",
    "# set1.remove(100) #不存在会报错\n",
    "# print(set1)"
   ]
  },
  {
   "cell_type": "code",
   "execution_count": null,
   "id": "25694db4",
   "metadata": {},
   "outputs": [],
   "source": [
    "set1 = set(['abc','root','user'])\n",
    "set1.discard(1) #不存在不会报错\n",
    "print(set1)\n",
    "print(set1.pop()) #随机弹出，每次都不一样"
   ]
  }
 ],
 "metadata": {
  "kernelspec": {
   "display_name": "Python 3",
   "language": "python",
   "name": "python3"
  },
  "language_info": {
   "codemirror_mode": {
    "name": "ipython",
    "version": 3
   },
   "file_extension": ".py",
   "mimetype": "text/x-python",
   "name": "python",
   "nbconvert_exporter": "python",
   "pygments_lexer": "ipython3",
   "version": "3.9.6"
  }
 },
 "nbformat": 4,
 "nbformat_minor": 5
}
