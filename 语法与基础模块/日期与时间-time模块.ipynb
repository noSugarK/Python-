{
 "cells": [
  {
   "cell_type": "markdown",
   "id": "a0e35d62fccdbc39",
   "metadata": {},
   "source": [
    "## 日期与时间\n",
    "\n",
    "https://blog.csdn.net/you_are_my_dream/article/details/61616465\n",
    "\n",
    "https://www.runoob.com/python/python-date-time.html"
   ]
  },
  {
   "cell_type": "code",
   "execution_count": null,
   "id": "527b6e17",
   "metadata": {},
   "outputs": [],
   "source": [
    "import time"
   ]
  },
  {
   "cell_type": "markdown",
   "id": "f10978c887d95a32",
   "metadata": {},
   "source": [
    "Python 程序能用很多方式处理日期和时间，转换日期格式是一个常见的功能。\n",
    "\n",
    "Python 提供了一个 time 和 calendar 模块可以用于格式化日期和时间。\n",
    "\n",
    "时间间隔是以秒为单位的浮点小数。\n",
    "\n",
    "每个时间戳都以自从1970年1月1日午夜（历元）经过了多长时间来表示。"
   ]
  },
  {
   "cell_type": "markdown",
   "id": "9ea01dfd",
   "metadata": {},
   "source": [
    "### 获取当前时间戳"
   ]
  },
  {
   "cell_type": "code",
   "execution_count": null,
   "id": "ae0e37b6faa2850",
   "metadata": {},
   "outputs": [],
   "source": [
    "ticks = time.time()\n",
    "print (\"当前时间戳为:\", ticks)"
   ]
  },
  {
   "cell_type": "markdown",
   "id": "14beb191",
   "metadata": {},
   "source": [
    "### 获取格式化时间"
   ]
  },
  {
   "cell_type": "code",
   "execution_count": null,
   "id": "initial_id",
   "metadata": {
    "collapsed": true
   },
   "outputs": [],
   "source": [
    "localtime = time.asctime( time.localtime(time.time()) )\n",
    "print (\"本地时间为 :\", localtime)"
   ]
  },
  {
   "cell_type": "markdown",
   "id": "254f8605",
   "metadata": {},
   "source": [
    "### 格式化日期\n",
    "\n",
    "time.strftime(format[, t])"
   ]
  },
  {
   "cell_type": "code",
   "execution_count": null,
   "id": "c3eb0877",
   "metadata": {},
   "outputs": [],
   "source": [
    "# 格式化成2016-03-20 11:45:39形式\n",
    "print (time.strftime(\"%Y-%m-%d %H:%M:%S\", time.localtime()))\n",
    "\n",
    "# 格式化成Sat Mar 28 22:24:24 2016形式\n",
    "print (time.strftime(\"%a %b %d %H:%M:%S %Y\", time.localtime()))\n",
    "  \n",
    "# 将格式字符串转换为时间戳\n",
    "a = \"Sat Mar 28 22:24:24 2016\"\n",
    "print (time.mktime(time.strptime(a,\"%a %b %d %H:%M:%S %Y\")))"
   ]
  },
  {
   "cell_type": "markdown",
   "id": "0424a1d3",
   "metadata": {},
   "source": [
    "#### python中时间日期格式化符号：\n",
    "\n",
    "|符号|作用|\n",
    "|---|-----------------|\n",
    "|%y |两位数的年份表示（00-99）|\n",
    "|%Y |四位数的年份表示（000-9999）|\n",
    "|%m |月份（01-12）|\n",
    "|%d |月内中的一天（0-31）|\n",
    "|%H |24小时制小时数（0-23）|\n",
    "|%I |12小时制小时数（01-12）|\n",
    "|%M |分钟数（00=59）|\n",
    "|%S |秒（00-59）|\n",
    "|%a |本地简化星期名称|\n",
    "|%A |本地完整星期名称|\n",
    "|%b |本地简化的月份名称|\n",
    "|%B |本地完整的月份名称|\n",
    "|%c |本地相应的日期表示和时间表示|\n",
    "|%j |年内的一天（001-366）|\n",
    "|%p |本地A.M.或P.M.的等价符|\n",
    "|%U |一年中的星期数（00-53）星期天为星期的开始|\n",
    "|%w |星期（0-6），星期天为星期的开始|\n",
    "|%W |一年中的星期数（00-53）星期一为星期的开始|\n",
    "|%x |本地相应的日期表示|\n",
    "|%X |本地相应的时间表示|\n",
    "|%Z |当前时区的名称|\n",
    "|%% |%号本身|"
   ]
  },
  {
   "cell_type": "markdown",
   "id": "7e0260d9",
   "metadata": {},
   "source": [
    "## 日历"
   ]
  },
  {
   "cell_type": "code",
   "execution_count": null,
   "id": "16054af4",
   "metadata": {},
   "outputs": [],
   "source": [
    "import calendar"
   ]
  },
  {
   "cell_type": "markdown",
   "id": "d708bc6d",
   "metadata": {},
   "source": [
    "Calendar 模块有很广泛的方法用来处理年历和月历，例如打印某月的月历："
   ]
  },
  {
   "cell_type": "code",
   "execution_count": null,
   "id": "17137e42",
   "metadata": {},
   "outputs": [],
   "source": [
    "cal = calendar.month(2025, 5)\n",
    "print (\"以下输出2025年5月份的日历:\")\n",
    "print (cal)"
   ]
  }
 ],
 "metadata": {
  "kernelspec": {
   "display_name": "Python 3",
   "language": "python",
   "name": "python3"
  },
  "language_info": {
   "codemirror_mode": {
    "name": "ipython",
    "version": 3
   },
   "file_extension": ".py",
   "mimetype": "text/x-python",
   "name": "python",
   "nbconvert_exporter": "python",
   "pygments_lexer": "ipython3",
   "version": "3.9.6"
  }
 },
 "nbformat": 4,
 "nbformat_minor": 5
}
