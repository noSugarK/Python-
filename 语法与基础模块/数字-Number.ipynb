{
 "cells": [
  {
   "cell_type": "markdown",
   "id": "91acfbd7",
   "metadata": {},
   "source": [
    "## 类型转换"
   ]
  },
  {
   "cell_type": "markdown",
   "id": "31cef1a8",
   "metadata": {},
   "source": [
    "| 函数                      | 功能                            |\n",
    "|-------------------------|-------------------------------|\n",
    "| int( x [,base ])        | 将x转换为一个整数                     |\n",
    "| long( x [,base ])       | 将x转换为一个长整数                    |\n",
    "| float( x )              | 将x转换到一个浮点数                    |\n",
    "| complex( real [,imag ]) | 创建一个复数                        |\n",
    "| str( x )                | 将对象 x 转换为字符串                  |\n",
    "| repr( x )               | 将对象 x 转换为表达式字符串               |\n",
    "| eval( str )             | 用来计算在字符串中的有效Python表达式,并返回一个对象 |\n",
    "| tuple( s )              | 将序列 s 转换为一个元组                 |\n",
    "| list( s )               | 将序列 s 转换为一个列表                 |\n",
    "| chr( x )                | 将一个整数转换为一个字符                  |\n",
    "| unichr( x )             | 将一个整数转换为Unicode字符             |\n",
    "| ord( x )                | 将一个字符转换为它的整数值                 |\n",
    "| hex( x )                | 将一个整数转换为一个十六进制字符串             |\n",
    "| oct( x )                | 将一个整数转换为一个八进制字符串              |\n",
    "| bin( x )                | 将一个整数转换为一个二进制字符串          ｜"
   ]
  },
  {
   "cell_type": "code",
   "execution_count": null,
   "id": "06745c07",
   "metadata": {},
   "outputs": [],
   "source": [
    "x = 127\n",
    "s = bin(x)[2:]\n",
    "print(\"x={:b}\".format(x),f\"x=%s x=%d\"%(s,int(s,2)))\n",
    "s = oct(x)[2:]\n",
    "print(\"x={:o}\".format(x),f\"x=%s x=%d\"%(s,int(s,8)))\n",
    "s = hex(x)[2:]\n",
    "print(\"x={:x}\".format(x),f\"x=%s x=%d\"%(s,int(s,16)))\n",
    "print(type(repr(x)))"
   ]
  },
  {
   "cell_type": "markdown",
   "id": "62e1ce38",
   "metadata": {},
   "source": [
    "## math和cmath"
   ]
  },
  {
   "cell_type": "markdown",
   "id": "e32e2183",
   "metadata": {},
   "source": [
    "Python 中数学运算常用的函数基本都在 math 模块、cmath 模块中。\n",
    "\n",
    "Python math 模块提供了许多对浮点数的数学运算函数。\n",
    "\n",
    "Python cmath 模块包含了一些用于复数运算的函数。\n",
    "\n",
    "cmath 模块的函数跟 math 模块函数基本一致，区别是 cmath 模块运算的是复数，math 模块运算的是数学运算。\n",
    "\n",
    "要使用 math 或 cmath 函数必须先导入："
   ]
  },
  {
   "cell_type": "markdown",
   "id": "d6951450",
   "metadata": {},
   "source": [
    "### Python数学函数\n",
    "\n",
    "数学函数\n",
    "|函数\t|返回值 ( 描述 )|\n",
    "|------|--------------|\n",
    "|abs(x)\t|返回数字的绝对值，如abs(-10) 返回 10|\n",
    "|ceil(x)\t|返回数字的上入整数，如math.ceil(4.1) 返回 5|\n",
    "|cmp(x, y)  |如果 x < y 返回 -1, 如果 x == y 返回 0, 如果 x > y 返回 1。 **Python 3 已废弃，使用 (x>y)-(x<y) 替换。**|\n",
    "|exp(x)\t|返回e的x次幂(ex),如math.exp(1) 返回2.718281828459045|\n",
    "|fabs(x)\t|以浮点数形式返回数字的绝对值，如math.fabs(-10) 返回10.0|\n",
    "|floor(x)\t|返回数字的下舍整数，如math.floor(4.9)返回 4|\n",
    "|log(x)\t|如math.log(math.e)返回1.0,math.log(100,10)返回2.0|\n",
    "|log10(x)\t|返回以10为基数的x的对数，如math.log10(100)返回 2.0|\n",
    "|max(x1, x2,...)\t|返回给定参数的最大值，参数可以为序列。|\n",
    "|min(x1, x2,...)\t|返回给定参数的最小值，参数可以为序列。|\n",
    "|modf(x)\t|返回x的整数部分与小数部分，两部分的数值符号与x相同，整数部分以浮点型表示。|\n",
    "|pow(x, y [,mod])\t|x**y 运算后的值。如给出 mod 值，则是将运算后的结果对 mod 取模的值|\n",
    "|round(x [,n])\t|返回浮点数 x 的四舍五入值，如给出 n 值，则代表舍入到小数点后的位数。<br>其实准确的说是保留值将保留到离上一位更近的一端。|\n",
    "|sqrt(x)\t|返回数字x的平方根。|"
   ]
  },
  {
   "cell_type": "code",
   "execution_count": null,
   "id": "d181c98c",
   "metadata": {},
   "outputs": [],
   "source": [
    "import math\n",
    "print(dir(math))"
   ]
  },
  {
   "cell_type": "code",
   "execution_count": null,
   "id": "59abf1e3",
   "metadata": {},
   "outputs": [],
   "source": [
    "from math import *\n",
    "print(pi,e)"
   ]
  },
  {
   "cell_type": "code",
   "execution_count": null,
   "id": "11be887c",
   "metadata": {},
   "outputs": [],
   "source": [
    "a = 172.54\n",
    "print(round(a,1))"
   ]
  },
  {
   "cell_type": "code",
   "execution_count": null,
   "id": "596108f7",
   "metadata": {},
   "outputs": [],
   "source": [
    "\n",
    "import cmath\n",
    "print(dir(cmath))"
   ]
  },
  {
   "cell_type": "markdown",
   "id": "2bae4742",
   "metadata": {},
   "source": [
    "## 逆元&快速幂"
   ]
  },
  {
   "cell_type": "markdown",
   "id": "c254e031",
   "metadata": {},
   "source": [
    "总结：\n",
    "\n",
    "内置的pow()比手搓快速幂更快\n",
    "\n",
    "逆元：a 关于 m 的模逆为 b\n",
    "\n",
    "1. 理解逆元的定义\n",
    "\n",
    "<p>在模 m 下，如果存在整数 b，使得 <code>a * b ≡ 1 (mod m)</code>，则 b 被称为 a 相对于 m 的逆元。换句话说，a 和 m 互为逆元意味着它们的乘积模 m 为 1。</p>\n",
    "\n",
    "特殊的：\n",
    "\n",
    "费马小定理，当 mod 为质数时 则有 <code>b = a%(m-2)</code>"
   ]
  },
  {
   "cell_type": "code",
   "execution_count": null,
   "id": "95785a70",
   "metadata": {},
   "outputs": [],
   "source": [
    "def fastExpMod(b,e,mod):\n",
    "    result=1\n",
    "    while e != 0:\n",
    "        if (e&1) == 1:\n",
    "            result = (result*b)%mod\n",
    "        e >>= 1\n",
    "        b = (b*b)%mod\n",
    "    return result\n",
    "\n",
    "x = fastExpMod(2,64,10086)\n",
    "y = pow(2,64,10086)\n",
    "print(x,y)"
   ]
  },
  {
   "cell_type": "markdown",
   "id": "7c9070ba",
   "metadata": {},
   "source": [
    "### 性能测试"
   ]
  },
  {
   "cell_type": "code",
   "execution_count": null,
   "id": "84576f08",
   "metadata": {},
   "outputs": [],
   "source": [
    "%timeit fastExpMod(2, 64, 10086)\n",
    "%timeit pow(2, 64, 10086)"
   ]
  },
  {
   "cell_type": "markdown",
   "id": "15de0011",
   "metadata": {},
   "source": [
    "貌似 pow 的效率会比手搓的快速幂更好"
   ]
  },
  {
   "cell_type": "code",
   "execution_count": null,
   "id": "19323c58",
   "metadata": {},
   "outputs": [],
   "source": [
    "import time\n",
    "\n",
    "def fastExpMod(b, e, mod):\n",
    "    result = 1\n",
    "    while e != 0:\n",
    "        if (e & 1) == 1:\n",
    "            result = (result * b) % mod\n",
    "        e >>= 1\n",
    "        b = (b * b) % mod\n",
    "    return result\n",
    "\n",
    "# 测试运行时间\n",
    "start_time = time.time()\n",
    "x = fastExpMod(2, 64, 10086)\n",
    "end_time = time.time()\n",
    "print(\"fastExpMod 耗时:\", end_time - start_time, \"秒\")\n",
    "\n",
    "start_time = time.time()\n",
    "y = pow(2, 64, 10086)\n",
    "end_time = time.time()\n",
    "print(\"pow 耗时:\", end_time - start_time, \"秒\")\n",
    "\n",
    "print(\"结果是否一致:\", x == y)"
   ]
  }
 ],
 "metadata": {
  "kernelspec": {
   "display_name": "Python 3",
   "language": "python",
   "name": "python3"
  },
  "language_info": {
   "codemirror_mode": {
    "name": "ipython",
    "version": 3
   },
   "file_extension": ".py",
   "mimetype": "text/x-python",
   "name": "python",
   "nbconvert_exporter": "python",
   "pygments_lexer": "ipython3",
   "version": "3.9.6"
  }
 },
 "nbformat": 4,
 "nbformat_minor": 5
}
