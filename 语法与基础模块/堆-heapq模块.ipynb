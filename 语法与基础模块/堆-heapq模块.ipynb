{
 "cells": [
  {
   "cell_type": "markdown",
   "id": "7b92a7cc",
   "metadata": {},
   "source": [
    "## 大小根堆\n",
    "\n",
    "堆就是用数组表示的二叉树，分为大根堆和小根堆，大根堆为堆顶元素最大的堆，小根堆为堆顶元素最小的堆"
   ]
  },
  {
   "cell_type": "markdown",
   "id": "259d540e",
   "metadata": {},
   "source": [
    "### 1. heappush(heap,item)建立大、小根堆\n",
    "\n",
    "heapq.heappush()是往堆中添加新值，此时自动建立了小根堆，代码如下"
   ]
  },
  {
   "cell_type": "code",
   "execution_count": null,
   "id": "532e26af",
   "metadata": {},
   "outputs": [],
   "source": [
    "import heapq\n",
    "a = []   #创建一个空堆\n",
    "heapq.heappush(a,18)\n",
    "heapq.heappush(a,1)\n",
    "heapq.heappush(a,20)\n",
    "heapq.heappush(a,10)\n",
    "heapq.heappush(a,5)\n",
    "heapq.heappush(a,200)\n",
    "print(a)"
   ]
  },
  {
   "cell_type": "markdown",
   "id": "ac392c58",
   "metadata": {},
   "source": [
    "但heapq里面没有直接提供建立大根堆的方法，可以采取如下方法：\n",
    "\n",
    "每次push时给元素加一个负号（即取相反数），此时最小值变最大值，\n",
    "\n",
    "反之亦然，那么实际上的最大值就可以处于堆顶了，返回时再取负即可。"
   ]
  },
  {
   "cell_type": "code",
   "execution_count": null,
   "id": "380cb1fb",
   "metadata": {},
   "outputs": [],
   "source": [
    "a = []\n",
    "for i in [1, 5, 20, 18, 10, 200]:\n",
    "    heapq.heappush(a,-i)\n",
    "print(list(map(lambda x:-x,a)))"
   ]
  },
  {
   "cell_type": "markdown",
   "id": "346ed05e",
   "metadata": {},
   "source": [
    "### 2. heapify(heap)建立大、小根堆\n",
    "\n",
    "heapq.heapfy()是以线性时间讲一个列表转化为小根堆"
   ]
  },
  {
   "cell_type": "code",
   "execution_count": null,
   "id": "a880eb1e",
   "metadata": {},
   "outputs": [],
   "source": [
    "a = [1, 5, 20, 18, 10, 200]\n",
    "heapq.heapify(a)\n",
    "print(a)"
   ]
  },
  {
   "cell_type": "markdown",
   "id": "470b6289",
   "metadata": {},
   "source": [
    "用第一节中同样的方法建立大根堆："
   ]
  },
  {
   "cell_type": "code",
   "execution_count": null,
   "id": "c7518597",
   "metadata": {},
   "outputs": [],
   "source": [
    "a = [1, 5, 20, 18, 10, 200]\n",
    "a = list(map(lambda x:-x,a))\n",
    "heapq.heapify(a)\n",
    "print([-x for x in a])"
   ]
  },
  {
   "cell_type": "markdown",
   "id": "d083bfa2",
   "metadata": {},
   "source": [
    "### 3. heappop(heap)\n",
    "heapq.heappop()是从堆中弹出并返回最小的值"
   ]
  },
  {
   "cell_type": "markdown",
   "id": "95b4cee0",
   "metadata": {},
   "source": [
    "#### 3.1 利用heappop进行堆排序\n",
    "\n",
    "堆排序当然也要利用到heappush或者heapify，可参考排序算法总结中的堆排序"
   ]
  },
  {
   "cell_type": "code",
   "execution_count": null,
   "id": "c8533851",
   "metadata": {},
   "outputs": [],
   "source": [
    "import heapq\n",
    "def heap_sort(arr):\n",
    "    if not arr:\n",
    "        return []\n",
    "    h = []  #建立空堆\n",
    "    for i in arr:\n",
    "        heapq.heappush(h,i) #heappush自动建立小根堆\n",
    "    return [heapq.heappop(h) for i in range(len(h))]  #heappop每次删除并返回列表中最小的值"
   ]
  },
  {
   "cell_type": "markdown",
   "id": "dc656b2f",
   "metadata": {},
   "source": [
    "若是从大到小排列，有两种方法：\n",
    "\n",
    "1）先建立小根堆，然后每次heappop()，此时得到从小大的排列，再reverse\n",
    "\n",
    "2）利用相反数建立大根堆，然后heappop(-元素)。即push(-元素)，pop(-元素)"
   ]
  },
  {
   "cell_type": "markdown",
   "id": "29295aa5",
   "metadata": {},
   "source": [
    "#### 3.2 普通list的heapop()\n",
    "\n",
    "普通list（即并没有进行heapify等操作的list），对他进行heappop操作并不会弹出list中最小的值，而是弹出第一个值"
   ]
  },
  {
   "cell_type": "code",
   "execution_count": null,
   "id": "7de2ce87",
   "metadata": {},
   "outputs": [],
   "source": [
    "from heapq import *\n",
    "a=[3,6,1]\n",
    "heapify(a)                  #将a变成堆之后，可以对其操作\n",
    "print(heappop(a))           # 1\n",
    "\n",
    "b=[4,2,5]                   #b不是堆，如果对其进行操作，显示结果如下\n",
    "print(heappop(b))           #按照顺序，删除第一个数值并返回,不会从中挑选出最小的\n",
    "                            # 4\n",
    "heapify(b)                  #变成堆之后，再操作\n",
    "print(heappop(b))           # 2"
   ]
  },
  {
   "cell_type": "markdown",
   "id": "4c6cab6e",
   "metadata": {},
   "source": [
    "### 4. heappushpop(heap,item)\n",
    "\n",
    "heapq.heappushpop()是heappush和haeppop的结合，同时完成两者的功能，先进行heappush()，再进行heappop()"
   ]
  },
  {
   "cell_type": "code",
   "execution_count": null,
   "id": "30c00c91",
   "metadata": {},
   "outputs": [],
   "source": [
    "h =  [1, 2, 9, 5]\n",
    "print(heappop(h))\n",
    "\n",
    "print(heappushpop(h,4))            #增加4同时删除最小值2并返回该最小值，与下列操作等同：\n",
    "print(h)"
   ]
  },
  {
   "cell_type": "markdown",
   "id": "bfa79a5f",
   "metadata": {},
   "source": [
    "### 5. heapreplace(heap.item)\n",
    "\n",
    "弹出并返回 heap 中最小的一项，同时推入新的 item\n",
    "\n",
    "heapq.heapreplace()与heapq.heappushpop()相反，先进行heappop()，再进行heappush()\n",
    "\n",
    "堆的大小不变。 如果堆为空则引发 IndexError。这个单步骤操作比依次执行heappop() + heappush() 更高效，并且在使用固定大小的堆时更为适宜。 pop/push 组合总是会从堆中返回一个元素并将其替换为 item。返回的值可能会比添加的 item 更大。 如果不\n",
    "希望如此，可考虑改用 heappushpop()。 它的 push/pop 组合会返回两个值中较小的一个，将较大的值留在堆中。"
   ]
  },
  {
   "cell_type": "code",
   "execution_count": null,
   "id": "d9e3c558",
   "metadata": {},
   "outputs": [],
   "source": [
    "a=[]\n",
    "# heapreplace(a,3)            #如果list空，则报错\n",
    "# Traceback (most recent call last):\n",
    "# File \"<stdin>\", line 1, in <module>\n",
    "# IndexError: index out of range\n",
    "print(a)\n",
    "heappush(a,3)\n",
    "print(a)\n",
    "heapreplace(a,2)            #先执行删除（heappop(a)->3),再执行加入（heappush(a,2))\n",
    "print(a)\n",
    "heappush(a,5)  \n",
    "heappush(a,9)\n",
    "heappush(a,4)\n",
    "print(a)\n",
    "heapreplace(a,6)            #先从堆a中找出最小值并返回，然后加入6\n",
    "print(a)\n",
    "heapreplace(a,1)            #1是后来加入的，在1加入之前，a中的最小值是4\n",
    "print(a)"
   ]
  },
  {
   "cell_type": "markdown",
   "id": "99c7fc12",
   "metadata": {},
   "source": [
    "### 6. merge(*iterables)\n",
    "\n",
    "heapq.merge()合并多个堆然后输出\n",
    "\n",
    "输入的list无序，merge后无序，若输入的list有序，merge后也有序"
   ]
  },
  {
   "cell_type": "code",
   "execution_count": null,
   "id": "b0b9bfc9",
   "metadata": {},
   "outputs": [],
   "source": [
    "from heapq import *\n",
    "a = [5,4,3,6,2,7]\n",
    "b = [9,10,28,32]\n",
    "c = [2,3,14,35,46]\n",
    "s = list(heapq.merge(a,b,[],[2,43,1,77]))   #输入无序，结果无序\n",
    "print(s)\n",
    "s = list(heapq.merge(b,c,[],[66]))          #输入有序，结果有序\n",
    "print(s)"
   ]
  },
  {
   "cell_type": "markdown",
   "id": "b3feefe0",
   "metadata": {},
   "source": [
    "### 7. nlargest(n , iterbale, key=None) 和nsmallest(n , iterbale, key=None)\n",
    "\n",
    "获取列表中最大、最小的几个值，key的作用和sorted( )方法里面的key类似"
   ]
  },
  {
   "cell_type": "code",
   "execution_count": null,
   "id": "2252f36b",
   "metadata": {},
   "outputs": [],
   "source": [
    "a = [0, 1, 2, 3, 4, 5, 5, 7, 8, 10, 15, 20, 25]\n",
    "print(heapq.nlargest(5,a))\n",
    "\n",
    "b = [('a',1),('b',2),('c',3),('d',4),('e',5)]\n",
    "print(heapq.nlargest(1,b,key=lambda x:x[1]))"
   ]
  },
  {
   "cell_type": "markdown",
   "id": "33be49f2",
   "metadata": {},
   "source": [
    "### 8. 复杂度分析"
   ]
  },
  {
   "cell_type": "markdown",
   "id": "b60861ea",
   "metadata": {},
   "source": [
    "8.1 各方法复杂度\n",
    "\n",
    "1. heapq.heapify(x): O(n)\n",
    "2. heapq.heappush(heap, item): O(logn)\n",
    "3. heapq.heappop(heap): O(logn)\n",
    "即插入或删除元素时，所有节点自动调整，保证堆的结构的复杂度为O(log n)\n",
    "4. heapq.nlargest(k,iterable)和nsmallest(k,iterable)：O(n * log(t))\n",
    "\n",
    "8.2 关于排序和取TopN时各方法的快慢比较\n",
    "在关于排序和取Top N值时，到底使用什么方法最快，python3 cookbook给出了非常好的建议：\n",
    "\n",
    "1. 当要查找的元素个数相对比较小的时候，函数nlargest() 和 nsmallest()。\n",
    "2. 仅仅想查找唯一的最小或最大(N=1)的元素的话，那么使用min()和max()函数。\n",
    "3. 如果N的大小和集合大小接近的时候，通常先排序这个集合然后再使用切片操作会更快点 (sorted(items)[:N] 或者是 sorted(items)[-N:])。"
   ]
  },
  {
   "cell_type": "markdown",
   "id": "b8eb2083",
   "metadata": {},
   "source": [
    "### 9. 利用heapq模块实现优先队列"
   ]
  },
  {
   "cell_type": "code",
   "execution_count": null,
   "id": "3cbb6e0a",
   "metadata": {},
   "outputs": [],
   "source": [
    "# priority 优先级\n",
    "\n",
    "class PriorityQueue:\n",
    "    def __init__(self):\n",
    "        self._queue = []\n",
    "        self._index = 0\n",
    "    def push(self, item, priority):\n",
    "        # heappush 在队列 _queue 上插入第一个元素\n",
    "        heapq.heappush(self._queue, (-priority, self._index, item))\n",
    "        self._index += 1\n",
    "    def pop(self):\n",
    "        # heappop 在队列 _queue 上删除第一个元素\n",
    "        return heapq.heappop(self._queue)[-1]\n",
    "\n",
    "class Item:\n",
    "    def __init__(self, name):\n",
    "        self.name = name\n",
    "    def __repr__(self):\n",
    "        return 'Item({!r})'.format(self.name)\n"
   ]
  },
  {
   "cell_type": "markdown",
   "id": "7307caa4",
   "metadata": {},
   "source": [
    "代码解读：\n",
    "\n",
    "调用push（）方法，实现将列表转化为堆数据\n",
    "\n",
    "插入的是元组，元组大小比较是从第一个元素开始，第一个相同，再对比第二个元素，我们这里采用的方案是如果优先级相同，那么就根据第二个元素，谁先插入堆中，谁的index就小，那么它的值就小\n",
    "\n",
    "heapq.heappop() 方法得到，该方法会先将第一个元素弹出来，然后用下一个最小的元素来取代被弹出元素。"
   ]
  },
  {
   "cell_type": "code",
   "execution_count": null,
   "id": "d87aa993",
   "metadata": {},
   "outputs": [],
   "source": [
    "q = PriorityQueue()\n",
    "\n",
    "q.push(Item('foo'), 1)\n",
    "\n",
    "q.push(Item('bar'), 5)\n",
    "\n",
    "q.push(Item('spam'), 4)\n",
    "\n",
    "q.push(Item('grok'), 1)\n",
    "\n",
    "print(q.pop())\n",
    "\n",
    "print(q.pop())\n",
    "\n",
    "print(q.pop())"
   ]
  }
 ],
 "metadata": {
  "kernelspec": {
   "display_name": "Python 3",
   "language": "python",
   "name": "python3"
  },
  "language_info": {
   "codemirror_mode": {
    "name": "ipython",
    "version": 3
   },
   "file_extension": ".py",
   "mimetype": "text/x-python",
   "name": "python",
   "nbconvert_exporter": "python",
   "pygments_lexer": "ipython3",
   "version": "3.9.6"
  }
 },
 "nbformat": 4,
 "nbformat_minor": 5
}
