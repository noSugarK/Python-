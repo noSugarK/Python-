{
 "cells": [
  {
   "cell_type": "markdown",
   "id": "db802bc3481f6aef",
   "metadata": {},
   "source": [
    "## 文件操作\n",
    "https://blog.csdn.net/z_ipython/article/details/135587034"
   ]
  },
  {
   "cell_type": "markdown",
   "id": "4b50a37955b86d69",
   "metadata": {},
   "source": [
    "### 文件打开与关闭"
   ]
  },
  {
   "cell_type": "markdown",
   "id": "76c732a65805d71a",
   "metadata": {},
   "source": [
    "with 语句是一种上下文管理器，当它的代码块执行完毕时，会自动关闭文件。这是推荐的方式，因为它确保文件在使用完毕后被正确关闭，即使发生异常也能保证关闭。"
   ]
  },
  {
   "cell_type": "code",
   "id": "4c1eb674115c6f54",
   "metadata": {},
   "source": [
    "with open(\"files/example.txt\", 'r') as file:\n",
    "    # 执行文件操作，例如读取文件内容\n",
    "    file_content = file.read()\n",
    "    print(file_content)\n",
    "# 文件在这里已经被自动关闭"
   ],
   "outputs": [],
   "execution_count": null
  },
  {
   "cell_type": "markdown",
   "id": "ec6539ce81f024ed",
   "metadata": {},
   "source": [
    "显式调用文件对象的 close() 方法来关闭文件。这种方法适用于一些特殊情况，但相对来说不如 with 语句简洁和安全。"
   ]
  },
  {
   "cell_type": "code",
   "id": "a5494ca71f253713",
   "metadata": {},
   "source": [
    "file = open(\"files/example.txt\", 'r')\n",
    "try:\n",
    "    # 执行文件操作，例如读取文件内容\n",
    "    file_content = file.read()\n",
    "    print(file_content)\n",
    "finally:\n",
    "    file.close()"
   ],
   "outputs": [],
   "execution_count": null
  },
  {
   "cell_type": "markdown",
   "id": "a6943512c8fb07e7",
   "metadata": {},
   "source": [
    "在使用 with 语句时，不需要显式调用 close() 方法。如果你在代码中打开了文件而没有使用 with，请确保在适当的地方调用 close() 以关闭文件，以避免资源泄漏。"
   ]
  },
  {
   "cell_type": "markdown",
   "id": "c325a0da0f1d3c37",
   "metadata": {},
   "source": [
    "#### 访问模式说明"
   ]
  },
  {
   "cell_type": "markdown",
   "id": "864bf3c1e5431a80",
   "metadata": {},
   "source": [
    "| 访问模式\t | 说明                                                                                |\n",
    "|-------|-----------------------------------------------------------------------------------|\n",
    "| r\t    | 以只读方式打开文件。文件的指针将会放在文件的开头。这是默认模式。                                                  |\n",
    "| w\t    | 打开一个文件只用于写入。如果该文件已存在则将其覆盖。如果该文件不存在，创建新文件。                                         |\n",
    "| a\t    | 打开一个文件用于追加。如果该文件已存在，文件指针将会放在文件的结尾。也就是说，新的内容将会被写入到已有内容之后。如果该文件不存在，创建新文件进行写入。       |\n",
    "| rb\t   | 以二进制格式打开一个文件用于只读。文件指针将会放在文件的开头。这是默认模式。                                            |\n",
    "| wb\t   | 以二进制格式打开一个文件只用于写入。如果该文件已存在则将其覆盖。如果该文件不存在，创建新文件。                                   |\n",
    "| ab\t   | 以二进制格式打开一个文件用于追加。如果该文件已存在，文件指针将会放在文件的结尾。也就是说，新的内容将会被写入到已有内容之后。如果该文件不存在，创建新文件进行写入。 |\n",
    "| r+\t   | 打开一个文件用于读写。文件指针将会放在文件的开头。                                                         |\n",
    "| w+\t   | 打开一个文件用于读写。如果该文件已存在则将其覆盖。如果该文件不存在，创建新文件。                                          |\n",
    "| a+\t   | 打开一个文件用于读写，如果该文件已存在，文件指针将会放在文件的结尾。文件打开时会是追加模式。如果改文件不存在，创建新文件用于读写。                 |\n",
    "| rb+\t  | 以二进制格式打开一个文件用于读写。文件指针将会放在文件的开头                                                    |\n",
    "| wb+\t  | 以二进制格式打开一个文件用于读写。如果改文件已存在则会覆盖。如果改文件不存在，创建新文件。                                     |\n",
    "| ab+\t  | 以二进制格式打开一个文件用于追加。如果该文件已存在，文件指针将会放在文件的结尾。如果改文件不存在，创建新文件用于读写。                       |"
   ]
  },
  {
   "cell_type": "markdown",
   "id": "d7c3176416fed8d2",
   "metadata": {},
   "source": [
    "### 文件读写"
   ]
  },
  {
   "cell_type": "markdown",
   "id": "a100d5b1a4d6b9dc",
   "metadata": {},
   "source": [
    "#### 写数据（write）\n",
    "\n",
    "写入数据通常涉及将信息保存到文件、数据库或其他持久性存储介质中。以下是一些常见的数据写入场景的示例："
   ]
  },
  {
   "cell_type": "markdown",
   "id": "19efbe2921607410",
   "metadata": {},
   "source": [
    "##### 写入文本文件\n",
    "\n",
    "使用内置的 open 函数来打开文件并写入内容。确保使用适当的模式（例如，'w' 表示写入）。"
   ]
  },
  {
   "cell_type": "code",
   "id": "7180277c0f49dd9",
   "metadata": {},
   "source": [
    "file_path = 'files/example.txt'\n",
    "\n",
    "# 写入文件\n",
    "with open(file_path, 'w') as file:\n",
    "    file.write(\"Hello, this is some data.\")"
   ],
   "outputs": [],
   "execution_count": null
  },
  {
   "cell_type": "markdown",
   "id": "f81d659b944a41d5",
   "metadata": {},
   "source": [
    "##### 写入CSV文件\n",
    "\n",
    "使用 csv 模块来写入CSV格式的文件。"
   ]
  },
  {
   "cell_type": "code",
   "id": "e02ebb2806059098",
   "metadata": {},
   "source": [
    "import csv\n",
    "\n",
    "csv_file_path = 'files/example.csv'\n",
    "\n",
    "data = [['Name', 'Age', 'Occupation'],\n",
    "        ['John Doe', 30, 'Engineer'],\n",
    "        ['Jane Smith', 25, 'Designer']]\n",
    "\n",
    "with open(csv_file_path, 'w', newline='') as csvfile:\n",
    "    csv_writer = csv.writer(csvfile)\n",
    "    csv_writer.writerows(data)"
   ],
   "outputs": [],
   "execution_count": null
  },
  {
   "cell_type": "markdown",
   "id": "1b83d1005c0dc46b",
   "metadata": {},
   "source": [
    "##### 写入JSON文件\n",
    "\n",
    "使用内置的 json 模块来写入JSON格式的文件。"
   ]
  },
  {
   "cell_type": "code",
   "id": "5a7fee44c6538824",
   "metadata": {},
   "source": [
    "import json\n",
    "\n",
    "json_file_path = 'files/example.json'\n",
    "\n",
    "data = {\"name\": \"John Doe\", \"age\": 30, \"occupation\": \"Engineer\"}\n",
    "\n",
    "with open(json_file_path, 'w') as jsonfile:\n",
    "    json.dump(data, jsonfile)"
   ],
   "outputs": [],
   "execution_count": null
  },
  {
   "cell_type": "markdown",
   "id": "5223dbdb6274e409",
   "metadata": {},
   "source": [
    "##### 写入数据库\n",
    "\n",
    "使用数据库连接库（如 sqlite3、mysql-connector-python 等）与相应的数据库进行交互。"
   ]
  },
  {
   "cell_type": "code",
   "id": "5e11dd37e4a43eb8",
   "metadata": {},
   "source": [
    "import sqlite3\n",
    "\n",
    "# 连接到SQLite数据库（假设有一个名为 example.db 的数据库）\n",
    "conn = sqlite3.connect('files/example.db')\n",
    "\n",
    "# 创建一个游标对象\n",
    "cursor = conn.cursor()\n",
    "\n",
    "# 执行SQL插入语句\n",
    "cursor.execute(\"INSERT INTO users (name, age, occupation) VALUES (?, ?, ?)\", ('John Doe', 30, 'Engineer'))\n",
    "\n",
    "# 提交更改\n",
    "conn.commit()\n",
    "\n",
    "# 关闭连接\n",
    "conn.close()"
   ],
   "outputs": [],
   "execution_count": null
  },
  {
   "cell_type": "markdown",
   "id": "6b90fe0bad94a7e9",
   "metadata": {},
   "source": [
    "#### 读数据（read）\n",
    "\n",
    "读取数据通常涉及从文件、数据库或其他存储介质中检索信息。以下是一些读取数据的常见示例："
   ]
  },
  {
   "cell_type": "markdown",
   "id": "5accc4bcbf7f1fe7",
   "metadata": {},
   "source": [
    "##### 读取文本文件\n",
    "\n",
    "使用内置的 open 函数来打开文件并读取内容。"
   ]
  },
  {
   "cell_type": "code",
   "id": "26cb87654233909d",
   "metadata": {},
   "source": [
    "file_path = 'files/example.txt'\n",
    "\n",
    "# 读取文件\n",
    "with open(file_path, 'r') as file:\n",
    "    data = file.read()\n",
    "    print(data)"
   ],
   "outputs": [],
   "execution_count": null
  },
  {
   "metadata": {},
   "cell_type": "markdown",
   "source": [
    "##### 读取CSV文件\n",
    "\n",
    "使用 csv 模块来读取CSV格式的文件。"
   ],
   "id": "5c094dffa00f44c"
  },
  {
   "metadata": {},
   "cell_type": "code",
   "source": [
    "import csv\n",
    "\n",
    "csv_file_path = 'files/example.csv'\n",
    "\n",
    "# 读取CSV文件\n",
    "with open(csv_file_path, 'r') as csvfile:\n",
    "    csv_reader = csv.reader(csvfile)\n",
    "    for row in csv_reader:\n",
    "        print(row)"
   ],
   "id": "825d155a25a91f54",
   "outputs": [],
   "execution_count": null
  },
  {
   "metadata": {},
   "cell_type": "markdown",
   "source": [
    "##### 读取JSON文件\n",
    "\n",
    "使用内置的 json 模块来读取JSON格式的文件。"
   ],
   "id": "7fcce6a4e5231db9"
  },
  {
   "metadata": {},
   "cell_type": "code",
   "source": [
    "import json\n",
    "\n",
    "json_file_path = 'example.json'\n",
    "\n",
    "# 读取JSON文件\n",
    "with open(json_file_path, 'r') as jsonfile:\n",
    "    data = json.load(jsonfile)\n",
    "    print(data)"
   ],
   "id": "9e2bff5c6bed0670",
   "outputs": [],
   "execution_count": null
  },
  {
   "metadata": {},
   "cell_type": "markdown",
   "source": [
    "##### 从数据库中读取数据\n",
    "\n",
    "使用数据库连接库（如 sqlite3、mysql-connector-python 等）与相应的数据库进行交互。"
   ],
   "id": "9d43a470470bbcee"
  },
  {
   "metadata": {},
   "cell_type": "code",
   "source": [
    "import sqlite3\n",
    "\n",
    "# 连接到SQLite数据库（假设有一个名为 example.db 的数据库）\n",
    "conn = sqlite3.connect('example.db')\n",
    "\n",
    "# 创建一个游标对象\n",
    "cursor = conn.cursor()\n",
    "\n",
    "# 执行SQL查询语句\n",
    "cursor.execute(\"SELECT * FROM users\")\n",
    "\n",
    "# 检索所有行\n",
    "rows = cursor.fetchall()\n",
    "\n",
    "# 打印每一行\n",
    "for row in rows:\n",
    "    print(row)\n",
    "\n",
    "# 关闭连接\n",
    "conn.close()"
   ],
   "id": "1a8d1c1324cdcdd1",
   "outputs": [],
   "execution_count": null
  },
  {
   "metadata": {},
   "cell_type": "markdown",
   "source": "#### 读数据（readlines）",
   "id": "503a2c1ecc1004d4"
  },
  {
   "metadata": {},
   "cell_type": "markdown",
   "source": [
    "readlines 是 Python 中用于读取文件的方法之一，它用于逐行读取文件内容，并将每一行作为字符串存储在一个列表中。下面是对 readlines 方法的详细解释：\n",
    "\n",
    "使用 readlines 方法的基本语法\n",
    "\n",
    "```python\n",
    "with open('file.txt', 'r') as file:\n",
    "    lines = file.readlines()\n",
    "```\n",
    "\n",
    "lines = file.readlines() : readlines 方法用于读取文件的所有行，并将每一行作为一个字符串存储在列表 lines 中。\n",
    "\n",
    "每个列表元素对应文件中的一行文本。你可以使用列表索引来访问特定行，例如 lines[0] 表示文件的第一行。"
   ],
   "id": "72ab0834bc9a1a81"
  },
  {
   "metadata": {},
   "cell_type": "code",
   "source": [
    "file_path = 'files/example.txt'\n",
    "\n",
    "# 读取文件\n",
    "with open(file_path, 'r') as file:\n",
    "    lines = file.readlines()\n",
    "    print(lines)\n",
    "    for line in lines:\n",
    "        print(line.strip())"
   ],
   "id": "f170bb7bda037702",
   "outputs": [],
   "execution_count": null
  },
  {
   "metadata": {},
   "cell_type": "markdown",
   "source": [
    "注意事项：\n",
    "\n",
    "每一行的末尾都包含换行符 \\n，你可以使用 strip() 方法去除这些额外的空白字符。\n",
    "\n",
    "readlines 方法适用于处理包含多行文本的文件，但对于大型文件，可能需要考虑逐行读取而不是将整个文件加载到内存中。这可以通过循环遍历文件对象来实现，而不是使用 readlines。\n"
   ],
   "id": "70ea7f819dc7e86c"
  },
  {
   "metadata": {},
   "cell_type": "markdown",
   "source": "#### 读数据（readline）",
   "id": "3d3ac6770be2934d"
  },
  {
   "metadata": {},
   "cell_type": "markdown",
   "source": [
    "readline 是 Python 中用于读取文件的方法之一，它用于逐行读取文件内容，并返回文件中的一行作为字符串。以下是对 readline 方法的详细解释：\n",
    "\n",
    "使用 readline 方法的基本语法\n",
    "\n",
    "```python\n",
    "with open('file.txt', 'r') as file:\n",
    "    line = file.readline()\n",
    "```\n",
    "\n",
    "line = file.readline() : readline 方法用于读取文件的一行，并将该行作为一个字符串存储在变量 line 中。"
   ],
   "id": "28b87d6e74e7bd32"
  },
  {
   "metadata": {},
   "cell_type": "code",
   "source": [
    "file_path = 'files/example.txt'\n",
    "\n",
    "# 读取文件\n",
    "with open(file_path, 'r') as file:\n",
    "    line = file.readline()\n",
    "    while line:\n",
    "        print(line.strip())\n",
    "        line = file.readline()"
   ],
   "id": "ce5f403c10c08d97",
   "outputs": [],
   "execution_count": null
  },
  {
   "metadata": {},
   "cell_type": "markdown",
   "source": [
    "注意事项：\n",
    "\n",
    "每个 readline 调用都会读取文件的下一行。\n",
    "\n",
    "返回的字符串包含行末尾的换行符 \\n。如果不需要换行符，可以使用 strip() 方法去除它。\n",
    "\n",
    "当文件读取完毕后，readline 将返回空字符串 ‘’，因此可以在循环中使用 while line != '' 来逐行读取整个文件。"
   ],
   "id": "7499f9f470bf1ad9"
  },
  {
   "metadata": {},
   "cell_type": "markdown",
   "source": [
    "#### readlines 和 readline的区别\n",
    "\n",
    "readlines 和 readline 是 Python 中用于读取文件的两种不同方法，它们之间有一些重要的区别：\n",
    "\n",
    "readlines 一次性读取整个文件的所有行，并返回一个包含所有行的列表。\n",
    "\n",
    "readline 逐行读取文件，每次调用返回文件中的一行，适用于处理大型文件，减少内存占用。\n",
    "\n",
    "readlines 返回包含换行符的每一行，而 readline 返回单独的行，需要手动去除换行符。\n",
    "\n",
    "选择使用哪个方法取决于文件的大小和处理需求。如果文件较小，可以完全装入内存，使用 readlines；如果文件较大，可以逐行处理，使用 readline。\n"
   ],
   "id": "988a43fcddd61486"
  },
  {
   "metadata": {},
   "cell_type": "markdown",
   "source": "### 文件的相关操作",
   "id": "6cfbf6f70a165d4"
  },
  {
   "metadata": {},
   "cell_type": "markdown",
   "source": [
    "#### 文件重命名\n",
    "\n",
    "Python 文件重命名是文件管理中的一个基本操作，可以通过 Python 的内置库来实现。以下是一个超详细的入门指南，介绍如何使用 Python 重命名文件："
   ],
   "id": "94357cfe1a8bacf9"
  }
 ],
 "metadata": {
  "kernelspec": {
   "display_name": "Python 3 (ipykernel)",
   "language": "python",
   "name": "python3"
  },
  "language_info": {
   "codemirror_mode": {
    "name": "ipython",
    "version": 3
   },
   "file_extension": ".py",
   "mimetype": "text/x-python",
   "name": "python",
   "nbconvert_exporter": "python",
   "pygments_lexer": "ipython3",
   "version": "3.12.9"
  }
 },
 "nbformat": 4,
 "nbformat_minor": 5
}
