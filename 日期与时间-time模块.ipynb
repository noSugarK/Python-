{
 "cells": [
  {
   "metadata": {},
   "cell_type": "markdown",
   "source": [
    "## 日期与时间\n",
    "\n",
    "https://blog.csdn.net/you_are_my_dream/article/details/61616465\n",
    "\n",
    "https://www.runoob.com/python/python-date-time.html"
   ],
   "id": "a0e35d62fccdbc39"
  },
  {
   "metadata": {},
   "cell_type": "markdown",
   "source": [
    "Python 程序能用很多方式处理日期和时间，转换日期格式是一个常见的功能。\n",
    "\n",
    "Python 提供了一个 time 和 calendar 模块可以用于格式化日期和时间。\n",
    "\n",
    "时间间隔是以秒为单位的浮点小数。\n",
    "\n",
    "每个时间戳都以自从1970年1月1日午夜（历元）经过了多长时间来表示。"
   ],
   "id": "f10978c887d95a32"
  },
  {
   "metadata": {},
   "cell_type": "code",
   "outputs": [],
   "execution_count": null,
   "source": "",
   "id": "ae0e37b6faa2850"
  },
  {
   "cell_type": "code",
   "execution_count": null,
   "id": "initial_id",
   "metadata": {
    "collapsed": true
   },
   "outputs": [],
   "source": [
    ""
   ]
  }
 ],
 "metadata": {
  "kernelspec": {
   "display_name": "Python 3",
   "language": "python",
   "name": "python3"
  },
  "language_info": {
   "codemirror_mode": {
    "name": "ipython",
    "version": 2
   },
   "file_extension": ".py",
   "mimetype": "text/x-python",
   "name": "python",
   "nbconvert_exporter": "python",
   "pygments_lexer": "ipython2",
   "version": "2.7.6"
  }
 },
 "nbformat": 4,
 "nbformat_minor": 5
}
